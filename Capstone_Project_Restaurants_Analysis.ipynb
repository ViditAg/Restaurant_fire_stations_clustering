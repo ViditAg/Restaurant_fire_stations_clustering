{
 "cells": [
  {
   "cell_type": "markdown",
   "metadata": {},
   "source": [
    "# Clustering of Restaurants based on the Fire-stations in Toronto\n",
    "1. Load the dataframes for Restaurants, Neighborhoods and Fire-stations previously created.\n",
    "2. Perform K-mean clustering algorithm on the Fire-stations locations, find the best value for Number of Clusters.\n",
    "3. Fit the K-mean Model on the Restaurant Locations.\n",
    "4. Visualize the maps and present the results.\n",
    "\n",
    "Please use this link to open the Jupyter notebook to see the maps: \n",
    "\n",
    "https://nbviewer.jupyter.org/"
   ]
  },
  {
   "cell_type": "markdown",
   "metadata": {},
   "source": [
    "Import neccessary libraries."
   ]
  },
  {
   "cell_type": "code",
   "execution_count": 1,
   "metadata": {},
   "outputs": [],
   "source": [
    "import numpy as np\n",
    "import pandas as pd\n",
    "import matplotlib.pyplot as plt\n",
    "import folium\n",
    "%matplotlib inline"
   ]
  },
  {
   "cell_type": "markdown",
   "metadata": {},
   "source": [
    "**Reading the dataframe for neighborhoods and boroughs**"
   ]
  },
  {
   "cell_type": "code",
   "execution_count": 2,
   "metadata": {},
   "outputs": [],
   "source": [
    "Neighborhood_data=pd.read_csv('Neighborhoods_Toronto.csv')"
   ]
  },
  {
   "cell_type": "code",
   "execution_count": 3,
   "metadata": {},
   "outputs": [
    {
     "data": {
      "text/html": [
       "<div>\n",
       "<style scoped>\n",
       "    .dataframe tbody tr th:only-of-type {\n",
       "        vertical-align: middle;\n",
       "    }\n",
       "\n",
       "    .dataframe tbody tr th {\n",
       "        vertical-align: top;\n",
       "    }\n",
       "\n",
       "    .dataframe thead th {\n",
       "        text-align: right;\n",
       "    }\n",
       "</style>\n",
       "<table border=\"1\" class=\"dataframe\">\n",
       "  <thead>\n",
       "    <tr style=\"text-align: right;\">\n",
       "      <th></th>\n",
       "      <th>PostalCode</th>\n",
       "      <th>Borough</th>\n",
       "      <th>Neighborhood</th>\n",
       "      <th>Latitude</th>\n",
       "      <th>Longitude</th>\n",
       "    </tr>\n",
       "  </thead>\n",
       "  <tbody>\n",
       "    <tr>\n",
       "      <th>0</th>\n",
       "      <td>M1B</td>\n",
       "      <td>Scarborough</td>\n",
       "      <td>Malvern, Rouge</td>\n",
       "      <td>43.806686</td>\n",
       "      <td>-79.194353</td>\n",
       "    </tr>\n",
       "    <tr>\n",
       "      <th>1</th>\n",
       "      <td>M1C</td>\n",
       "      <td>Scarborough</td>\n",
       "      <td>Highland Creek, Port Union, Rouge Hill</td>\n",
       "      <td>43.784535</td>\n",
       "      <td>-79.160497</td>\n",
       "    </tr>\n",
       "    <tr>\n",
       "      <th>2</th>\n",
       "      <td>M1E</td>\n",
       "      <td>Scarborough</td>\n",
       "      <td>Guildwood, Morningside, West Hill</td>\n",
       "      <td>43.763573</td>\n",
       "      <td>-79.188711</td>\n",
       "    </tr>\n",
       "    <tr>\n",
       "      <th>3</th>\n",
       "      <td>M1G</td>\n",
       "      <td>Scarborough</td>\n",
       "      <td>Woburn</td>\n",
       "      <td>43.770992</td>\n",
       "      <td>-79.216917</td>\n",
       "    </tr>\n",
       "    <tr>\n",
       "      <th>4</th>\n",
       "      <td>M1H</td>\n",
       "      <td>Scarborough</td>\n",
       "      <td>Cedarbrae</td>\n",
       "      <td>43.773136</td>\n",
       "      <td>-79.239476</td>\n",
       "    </tr>\n",
       "  </tbody>\n",
       "</table>\n",
       "</div>"
      ],
      "text/plain": [
       "  PostalCode      Borough                            Neighborhood   Latitude  \\\n",
       "0        M1B  Scarborough                          Malvern, Rouge  43.806686   \n",
       "1        M1C  Scarborough  Highland Creek, Port Union, Rouge Hill  43.784535   \n",
       "2        M1E  Scarborough       Guildwood, Morningside, West Hill  43.763573   \n",
       "3        M1G  Scarborough                                  Woburn  43.770992   \n",
       "4        M1H  Scarborough                               Cedarbrae  43.773136   \n",
       "\n",
       "   Longitude  \n",
       "0 -79.194353  \n",
       "1 -79.160497  \n",
       "2 -79.188711  \n",
       "3 -79.216917  \n",
       "4 -79.239476  "
      ]
     },
     "execution_count": 3,
     "metadata": {},
     "output_type": "execute_result"
    }
   ],
   "source": [
    "Neighborhood_data.head()"
   ]
  },
  {
   "cell_type": "code",
   "execution_count": 299,
   "metadata": {},
   "outputs": [
    {
     "name": "stdout",
     "output_type": "stream",
     "text": [
      "Number of in Neighborhoods based on postal code 103\n"
     ]
    }
   ],
   "source": [
    "print('Number of in Neighborhoods based on postal code',Neighborhood_data.shape[0])"
   ]
  },
  {
   "cell_type": "markdown",
   "metadata": {},
   "source": [
    "**Loading the dataframe for the Restaurants**"
   ]
  },
  {
   "cell_type": "code",
   "execution_count": 5,
   "metadata": {},
   "outputs": [],
   "source": [
    "Restaurant_data=pd.read_csv('Toronto_Restaurants.csv')"
   ]
  },
  {
   "cell_type": "code",
   "execution_count": 6,
   "metadata": {},
   "outputs": [
    {
     "data": {
      "text/html": [
       "<div>\n",
       "<style scoped>\n",
       "    .dataframe tbody tr th:only-of-type {\n",
       "        vertical-align: middle;\n",
       "    }\n",
       "\n",
       "    .dataframe tbody tr th {\n",
       "        vertical-align: top;\n",
       "    }\n",
       "\n",
       "    .dataframe thead th {\n",
       "        text-align: right;\n",
       "    }\n",
       "</style>\n",
       "<table border=\"1\" class=\"dataframe\">\n",
       "  <thead>\n",
       "    <tr style=\"text-align: right;\">\n",
       "      <th></th>\n",
       "      <th>Neighborhood</th>\n",
       "      <th>Neighborhood_lat</th>\n",
       "      <th>Neighborhood_long</th>\n",
       "      <th>Restaurant</th>\n",
       "      <th>Restaurant_lat</th>\n",
       "      <th>Restaurant_long</th>\n",
       "    </tr>\n",
       "  </thead>\n",
       "  <tbody>\n",
       "    <tr>\n",
       "      <th>0</th>\n",
       "      <td>Malvern, Rouge</td>\n",
       "      <td>43.806686</td>\n",
       "      <td>-79.194353</td>\n",
       "      <td>Ted's Restaurant</td>\n",
       "      <td>43.784468</td>\n",
       "      <td>-79.169200</td>\n",
       "    </tr>\n",
       "    <tr>\n",
       "      <th>1</th>\n",
       "      <td>Malvern, Rouge</td>\n",
       "      <td>43.806686</td>\n",
       "      <td>-79.194353</td>\n",
       "      <td>Perfect Chinese Restaurant 雅瓊海鮮酒家</td>\n",
       "      <td>43.787774</td>\n",
       "      <td>-79.270294</td>\n",
       "    </tr>\n",
       "    <tr>\n",
       "      <th>2</th>\n",
       "      <td>Malvern, Rouge</td>\n",
       "      <td>43.806686</td>\n",
       "      <td>-79.194353</td>\n",
       "      <td>Alton Restaurant 益街坊</td>\n",
       "      <td>43.825582</td>\n",
       "      <td>-79.276038</td>\n",
       "    </tr>\n",
       "    <tr>\n",
       "      <th>3</th>\n",
       "      <td>Malvern, Rouge</td>\n",
       "      <td>43.806686</td>\n",
       "      <td>-79.194353</td>\n",
       "      <td>東海漁村 Tasty BBQ Seafood Restaurant (Tasty BBQ S...</td>\n",
       "      <td>43.794425</td>\n",
       "      <td>-79.353300</td>\n",
       "    </tr>\n",
       "    <tr>\n",
       "      <th>4</th>\n",
       "      <td>Malvern, Rouge</td>\n",
       "      <td>43.806686</td>\n",
       "      <td>-79.194353</td>\n",
       "      <td>Federick Restaurant</td>\n",
       "      <td>43.851124</td>\n",
       "      <td>-79.253210</td>\n",
       "    </tr>\n",
       "  </tbody>\n",
       "</table>\n",
       "</div>"
      ],
      "text/plain": [
       "     Neighborhood  Neighborhood_lat  Neighborhood_long  \\\n",
       "0  Malvern, Rouge         43.806686         -79.194353   \n",
       "1  Malvern, Rouge         43.806686         -79.194353   \n",
       "2  Malvern, Rouge         43.806686         -79.194353   \n",
       "3  Malvern, Rouge         43.806686         -79.194353   \n",
       "4  Malvern, Rouge         43.806686         -79.194353   \n",
       "\n",
       "                                          Restaurant  Restaurant_lat  \\\n",
       "0                                   Ted's Restaurant       43.784468   \n",
       "1                  Perfect Chinese Restaurant 雅瓊海鮮酒家       43.787774   \n",
       "2                               Alton Restaurant 益街坊       43.825582   \n",
       "3  東海漁村 Tasty BBQ Seafood Restaurant (Tasty BBQ S...       43.794425   \n",
       "4                                Federick Restaurant       43.851124   \n",
       "\n",
       "   Restaurant_long  \n",
       "0       -79.169200  \n",
       "1       -79.270294  \n",
       "2       -79.276038  \n",
       "3       -79.353300  \n",
       "4       -79.253210  "
      ]
     },
     "execution_count": 6,
     "metadata": {},
     "output_type": "execute_result"
    }
   ],
   "source": [
    "Restaurant_data.head()"
   ]
  },
  {
   "cell_type": "code",
   "execution_count": 300,
   "metadata": {},
   "outputs": [
    {
     "name": "stdout",
     "output_type": "stream",
     "text": [
      "Number of Restaurants 3090\n"
     ]
    }
   ],
   "source": [
    "print('Number of Restaurants',Restaurant_data.shape[0])"
   ]
  },
  {
   "cell_type": "markdown",
   "metadata": {},
   "source": [
    "Let's join the two dataframes on Neighborhood column. This will connect the Restaurants with the Boroughs they are located in as well. "
   ]
  },
  {
   "cell_type": "code",
   "execution_count": 8,
   "metadata": {},
   "outputs": [],
   "source": [
    "Combined_data=Restaurant_data.merge(Neighborhood_data,how='left',on='Neighborhood')"
   ]
  },
  {
   "cell_type": "code",
   "execution_count": 9,
   "metadata": {},
   "outputs": [],
   "source": [
    "Combined_data.drop(columns=['Latitude','Longitude'],inplace=True)"
   ]
  },
  {
   "cell_type": "code",
   "execution_count": 301,
   "metadata": {},
   "outputs": [
    {
     "data": {
      "text/html": [
       "<div>\n",
       "<style scoped>\n",
       "    .dataframe tbody tr th:only-of-type {\n",
       "        vertical-align: middle;\n",
       "    }\n",
       "\n",
       "    .dataframe tbody tr th {\n",
       "        vertical-align: top;\n",
       "    }\n",
       "\n",
       "    .dataframe thead th {\n",
       "        text-align: right;\n",
       "    }\n",
       "</style>\n",
       "<table border=\"1\" class=\"dataframe\">\n",
       "  <thead>\n",
       "    <tr style=\"text-align: right;\">\n",
       "      <th></th>\n",
       "      <th>Neighborhood</th>\n",
       "      <th>Neighborhood_lat</th>\n",
       "      <th>Neighborhood_long</th>\n",
       "      <th>Restaurant</th>\n",
       "      <th>Restaurant_lat</th>\n",
       "      <th>Restaurant_long</th>\n",
       "      <th>PostalCode</th>\n",
       "      <th>Borough</th>\n",
       "    </tr>\n",
       "  </thead>\n",
       "  <tbody>\n",
       "    <tr>\n",
       "      <th>0</th>\n",
       "      <td>Malvern, Rouge</td>\n",
       "      <td>43.806686</td>\n",
       "      <td>-79.194353</td>\n",
       "      <td>Ted's Restaurant</td>\n",
       "      <td>43.784468</td>\n",
       "      <td>-79.169200</td>\n",
       "      <td>M1B</td>\n",
       "      <td>Scarborough</td>\n",
       "    </tr>\n",
       "    <tr>\n",
       "      <th>1</th>\n",
       "      <td>Malvern, Rouge</td>\n",
       "      <td>43.806686</td>\n",
       "      <td>-79.194353</td>\n",
       "      <td>Perfect Chinese Restaurant 雅瓊海鮮酒家</td>\n",
       "      <td>43.787774</td>\n",
       "      <td>-79.270294</td>\n",
       "      <td>M1B</td>\n",
       "      <td>Scarborough</td>\n",
       "    </tr>\n",
       "    <tr>\n",
       "      <th>2</th>\n",
       "      <td>Malvern, Rouge</td>\n",
       "      <td>43.806686</td>\n",
       "      <td>-79.194353</td>\n",
       "      <td>Alton Restaurant 益街坊</td>\n",
       "      <td>43.825582</td>\n",
       "      <td>-79.276038</td>\n",
       "      <td>M1B</td>\n",
       "      <td>Scarborough</td>\n",
       "    </tr>\n",
       "    <tr>\n",
       "      <th>3</th>\n",
       "      <td>Malvern, Rouge</td>\n",
       "      <td>43.806686</td>\n",
       "      <td>-79.194353</td>\n",
       "      <td>東海漁村 Tasty BBQ Seafood Restaurant (Tasty BBQ S...</td>\n",
       "      <td>43.794425</td>\n",
       "      <td>-79.353300</td>\n",
       "      <td>M1B</td>\n",
       "      <td>Scarborough</td>\n",
       "    </tr>\n",
       "    <tr>\n",
       "      <th>4</th>\n",
       "      <td>Malvern, Rouge</td>\n",
       "      <td>43.806686</td>\n",
       "      <td>-79.194353</td>\n",
       "      <td>Federick Restaurant</td>\n",
       "      <td>43.851124</td>\n",
       "      <td>-79.253210</td>\n",
       "      <td>M1B</td>\n",
       "      <td>Scarborough</td>\n",
       "    </tr>\n",
       "  </tbody>\n",
       "</table>\n",
       "</div>"
      ],
      "text/plain": [
       "     Neighborhood  Neighborhood_lat  Neighborhood_long  \\\n",
       "0  Malvern, Rouge         43.806686         -79.194353   \n",
       "1  Malvern, Rouge         43.806686         -79.194353   \n",
       "2  Malvern, Rouge         43.806686         -79.194353   \n",
       "3  Malvern, Rouge         43.806686         -79.194353   \n",
       "4  Malvern, Rouge         43.806686         -79.194353   \n",
       "\n",
       "                                          Restaurant  Restaurant_lat  \\\n",
       "0                                   Ted's Restaurant       43.784468   \n",
       "1                  Perfect Chinese Restaurant 雅瓊海鮮酒家       43.787774   \n",
       "2                               Alton Restaurant 益街坊       43.825582   \n",
       "3  東海漁村 Tasty BBQ Seafood Restaurant (Tasty BBQ S...       43.794425   \n",
       "4                                Federick Restaurant       43.851124   \n",
       "\n",
       "   Restaurant_long PostalCode      Borough  \n",
       "0       -79.169200        M1B  Scarborough  \n",
       "1       -79.270294        M1B  Scarborough  \n",
       "2       -79.276038        M1B  Scarborough  \n",
       "3       -79.353300        M1B  Scarborough  \n",
       "4       -79.253210        M1B  Scarborough  "
      ]
     },
     "execution_count": 301,
     "metadata": {},
     "output_type": "execute_result"
    }
   ],
   "source": [
    "Combined_data.head(5)"
   ]
  },
  {
   "cell_type": "code",
   "execution_count": 11,
   "metadata": {},
   "outputs": [
    {
     "name": "stdout",
     "output_type": "stream",
     "text": [
      "Number of rows 3090\n"
     ]
    }
   ],
   "source": [
    "print('Number of rows',Combined_data.shape[0])"
   ]
  },
  {
   "cell_type": "markdown",
   "metadata": {},
   "source": [
    "**Loading the dataframe for Fire stations data**"
   ]
  },
  {
   "cell_type": "code",
   "execution_count": 12,
   "metadata": {},
   "outputs": [],
   "source": [
    "Firestation_data=pd.read_csv('Firestations_Toronto.csv')"
   ]
  },
  {
   "cell_type": "code",
   "execution_count": 302,
   "metadata": {},
   "outputs": [
    {
     "data": {
      "text/html": [
       "<div>\n",
       "<style scoped>\n",
       "    .dataframe tbody tr th:only-of-type {\n",
       "        vertical-align: middle;\n",
       "    }\n",
       "\n",
       "    .dataframe tbody tr th {\n",
       "        vertical-align: top;\n",
       "    }\n",
       "\n",
       "    .dataframe thead th {\n",
       "        text-align: right;\n",
       "    }\n",
       "</style>\n",
       "<table border=\"1\" class=\"dataframe\">\n",
       "  <thead>\n",
       "    <tr style=\"text-align: right;\">\n",
       "      <th></th>\n",
       "      <th>Cluster Labels</th>\n",
       "      <th>Fire_station_#</th>\n",
       "      <th>x_6degree_UTM_coordinate</th>\n",
       "      <th>y_6degree_UTM_coordinate</th>\n",
       "      <th>longitude</th>\n",
       "      <th>latitude</th>\n",
       "    </tr>\n",
       "  </thead>\n",
       "  <tbody>\n",
       "    <tr>\n",
       "      <th>0</th>\n",
       "      <td>2</td>\n",
       "      <td>111</td>\n",
       "      <td>629254.562</td>\n",
       "      <td>4849606.500</td>\n",
       "      <td>-79.393539</td>\n",
       "      <td>43.788230</td>\n",
       "    </tr>\n",
       "    <tr>\n",
       "      <th>1</th>\n",
       "      <td>2</td>\n",
       "      <td>112</td>\n",
       "      <td>625241.895</td>\n",
       "      <td>4847922.113</td>\n",
       "      <td>-79.443786</td>\n",
       "      <td>43.773759</td>\n",
       "    </tr>\n",
       "    <tr>\n",
       "      <th>2</th>\n",
       "      <td>7</td>\n",
       "      <td>113</td>\n",
       "      <td>632675.000</td>\n",
       "      <td>4849871.000</td>\n",
       "      <td>-79.350979</td>\n",
       "      <td>43.790005</td>\n",
       "    </tr>\n",
       "    <tr>\n",
       "      <th>3</th>\n",
       "      <td>2</td>\n",
       "      <td>114</td>\n",
       "      <td>627526.500</td>\n",
       "      <td>4847651.500</td>\n",
       "      <td>-79.415473</td>\n",
       "      <td>43.770934</td>\n",
       "    </tr>\n",
       "    <tr>\n",
       "      <th>4</th>\n",
       "      <td>7</td>\n",
       "      <td>115</td>\n",
       "      <td>633496.245</td>\n",
       "      <td>4847881.079</td>\n",
       "      <td>-79.341271</td>\n",
       "      <td>43.771948</td>\n",
       "    </tr>\n",
       "  </tbody>\n",
       "</table>\n",
       "</div>"
      ],
      "text/plain": [
       "   Cluster Labels  Fire_station_#  x_6degree_UTM_coordinate  \\\n",
       "0               2             111                629254.562   \n",
       "1               2             112                625241.895   \n",
       "2               7             113                632675.000   \n",
       "3               2             114                627526.500   \n",
       "4               7             115                633496.245   \n",
       "\n",
       "   y_6degree_UTM_coordinate  longitude   latitude  \n",
       "0               4849606.500 -79.393539  43.788230  \n",
       "1               4847922.113 -79.443786  43.773759  \n",
       "2               4849871.000 -79.350979  43.790005  \n",
       "3               4847651.500 -79.415473  43.770934  \n",
       "4               4847881.079 -79.341271  43.771948  "
      ]
     },
     "execution_count": 302,
     "metadata": {},
     "output_type": "execute_result"
    }
   ],
   "source": [
    "Firestation_data.head()"
   ]
  },
  {
   "cell_type": "code",
   "execution_count": 303,
   "metadata": {},
   "outputs": [
    {
     "name": "stdout",
     "output_type": "stream",
     "text": [
      "Number of Fire stations 83\n"
     ]
    }
   ],
   "source": [
    "print('Number of Fire stations',Firestation_data.shape[0])"
   ]
  },
  {
   "cell_type": "markdown",
   "metadata": {},
   "source": [
    "## Visualizing the Geo-locations of Restaurants and Firestations"
   ]
  },
  {
   "cell_type": "code",
   "execution_count": 250,
   "metadata": {},
   "outputs": [
    {
     "data": {
      "text/plain": [
       "Text(0.5, 1.0, 'Geo-Location of Restaurants and Firestations')"
      ]
     },
     "execution_count": 250,
     "metadata": {},
     "output_type": "execute_result"
    },
    {
     "data": {
      "image/png": "[encoded data removed]",
      "text/plain": [
       "<Figure size 432x288 with 1 Axes>"
      ]
     },
     "metadata": {
      "needs_background": "light"
     },
     "output_type": "display_data"
    }
   ],
   "source": [
    "plt.scatter(Combined_data.Restaurant_long,Combined_data.Restaurant_lat,label='Restaurant')\n",
    "plt.scatter(Firestation_data.longitude,Firestation_data.latitude,label='Fire station')\n",
    "plt.legend()\n",
    "plt.xlabel('Longitude')\n",
    "plt.ylabel('Latitude')\n",
    "plt.title('Geo-Location of Restaurants and Firestations')"
   ]
  },
  {
   "cell_type": "markdown",
   "metadata": {},
   "source": [
    "As it can be seen a bunch of restaurants are outside the area where fire-stations are present. We remove those from our analysis because they would unneccessarily biase the clustering."
   ]
  },
  {
   "cell_type": "code",
   "execution_count": 16,
   "metadata": {},
   "outputs": [],
   "source": [
    "Max_long=Firestation_data.longitude.max()\n",
    "Max_lat=Firestation_data.latitude.max()\n",
    "Min_long=Firestation_data.longitude.min()\n",
    "Min_lat=Firestation_data.latitude.min()"
   ]
  },
  {
   "cell_type": "markdown",
   "metadata": {},
   "source": [
    "Finding the min and max geo-coordinates for fire-stations and restricting the analysis to those restaurants only."
   ]
  },
  {
   "cell_type": "code",
   "execution_count": 17,
   "metadata": {},
   "outputs": [],
   "source": [
    "Combined_data_clipped=Combined_data[(Combined_data.Restaurant_long<Max_long)&\n",
    "                                    (Combined_data.Restaurant_long>Min_long)&\n",
    "                                     (Combined_data.Restaurant_lat<Max_lat)&\n",
    "                                    (Combined_data.Restaurant_lat>Min_lat)]"
   ]
  },
  {
   "cell_type": "code",
   "execution_count": 251,
   "metadata": {},
   "outputs": [
    {
     "data": {
      "text/plain": [
       "Text(0.5, 1.0, 'Geo-Location of Restaurants and Firestations (Boundary clipped)')"
      ]
     },
     "execution_count": 251,
     "metadata": {},
     "output_type": "execute_result"
    },
    {
     "data": {
      "image/png": "[encoded data removed]",
      "text/plain": [
       "<Figure size 432x288 with 1 Axes>"
      ]
     },
     "metadata": {
      "needs_background": "light"
     },
     "output_type": "display_data"
    }
   ],
   "source": [
    "plt.scatter(Combined_data_clipped.Restaurant_long,Combined_data_clipped.Restaurant_lat,label='Restaurant')\n",
    "plt.scatter(Firestation_data.longitude,Firestation_data.latitude,label='Fire station')\n",
    "plt.legend()\n",
    "plt.xlabel('Longitude')\n",
    "plt.ylabel('Latitude')\n",
    "plt.title('Geo-Location of Restaurants and Firestations (Boundary clipped)')"
   ]
  },
  {
   "cell_type": "markdown",
   "metadata": {},
   "source": [
    "## K-Mean Clustering"
   ]
  },
  {
   "cell_type": "markdown",
   "metadata": {},
   "source": [
    "We want to distribute the fire-stations into distinct clusters based on there geo-locations. We need to find the optimal number of clusters so that the fire-stations are evenly distributed in the clusters. For that we will try a few 'number of clusters' parameter values. For each value we will estimate the standard deviation of  the number of fire-stations in the clusters. Finally, we choose the model with lowest standard deviation. "
   ]
  },
  {
   "cell_type": "code",
   "execution_count": 19,
   "metadata": {},
   "outputs": [],
   "source": [
    "from sklearn.cluster import KMeans"
   ]
  },
  {
   "cell_type": "code",
   "execution_count": 285,
   "metadata": {},
   "outputs": [],
   "source": [
    "k_cluster_list=[5,6,7,8,9,10]"
   ]
  },
  {
   "cell_type": "code",
   "execution_count": 304,
   "metadata": {},
   "outputs": [],
   "source": [
    "cluster_diff=np.zeros((len(k_cluster_list),1))\n",
    "for i in range(len(k_cluster_list)):\n",
    "    # set number of clusters\n",
    "    kclusters = k_cluster_list[i]\n",
    "    firestation_geo = Firestation_data[['longitude','latitude']]\n",
    "    # run k-means clustering\n",
    "    kmeans = KMeans(n_clusters=kclusters, random_state=1)\n",
    "    firestation_clusters=kmeans.fit(firestation_geo)\n",
    "    cluster_diff[i]=pd.Series(firestation_clusters.labels_).value_counts().std()"
   ]
  },
  {
   "cell_type": "code",
   "execution_count": 307,
   "metadata": {},
   "outputs": [
    {
     "data": {
      "text/plain": [
       "Text(0.5, 1.0, 'Finding best K-Mean clustering Model')"
      ]
     },
     "execution_count": 307,
     "metadata": {},
     "output_type": "execute_result"
    },
    {
     "data": {
      "image/png": "[encoded data removed]",
      "text/plain": [
       "<Figure size 432x288 with 1 Axes>"
      ]
     },
     "metadata": {
      "needs_background": "light"
     },
     "output_type": "display_data"
    }
   ],
   "source": [
    "plt.plot(k_cluster_list,cluster_diff)\n",
    "plt.xlabel('Number of Clusters (k)')\n",
    "plt.ylabel('Standar deviation\\n Number of fire-stations in the clusters')\n",
    "plt.title('Finding best K-Mean clustering Model')"
   ]
  },
  {
   "cell_type": "markdown",
   "metadata": {},
   "source": [
    "**Lowest standard deviation is seen for k=8, thus we choose this value for the K-Mean clustering model**\n",
    "\n",
    "Next we train the model on the fire-station so that the fire-stations are divided into clusters based on their geo-location."
   ]
  },
  {
   "cell_type": "code",
   "execution_count": 357,
   "metadata": {},
   "outputs": [
    {
     "data": {
      "text/plain": [
       "array([2, 2, 7, 2, 7, 2, 2, 2, 7, 1, 2, 2, 5, 2, 2, 4, 4, 2, 2, 4, 3, 3,\n",
       "       3, 3, 3, 1, 3, 1, 1, 1, 1, 3, 7, 7, 3, 1, 7, 7, 7, 7, 7, 6, 6, 6,\n",
       "       6, 6, 1, 1, 1, 1, 6, 1, 6, 6, 6, 6, 6, 5, 5, 5, 6, 5, 6, 4, 4, 4,\n",
       "       4, 5, 5, 5, 5, 5, 5, 0, 0, 0, 0, 0, 4, 4, 0, 0, 0])"
      ]
     },
     "execution_count": 357,
     "metadata": {},
     "output_type": "execute_result"
    }
   ],
   "source": [
    "# set number of clusters\n",
    "kclusters = 8\n",
    "firestation_geo = Firestation_data[['longitude','latitude']]\n",
    "# run k-means clustering\n",
    "kmeans = KMeans(n_clusters=kclusters, random_state=1)\n",
    "firestation_clusters=kmeans.fit(firestation_geo)\n",
    "firestation_clusters.labels_"
   ]
  },
  {
   "cell_type": "markdown",
   "metadata": {},
   "source": [
    "The count of fire-stations in each cluster is given below"
   ]
  },
  {
   "cell_type": "code",
   "execution_count": 346,
   "metadata": {},
   "outputs": [
    {
     "data": {
      "text/html": [
       "<div>\n",
       "<style scoped>\n",
       "    .dataframe tbody tr th:only-of-type {\n",
       "        vertical-align: middle;\n",
       "    }\n",
       "\n",
       "    .dataframe tbody tr th {\n",
       "        vertical-align: top;\n",
       "    }\n",
       "\n",
       "    .dataframe thead th {\n",
       "        text-align: right;\n",
       "    }\n",
       "</style>\n",
       "<table border=\"1\" class=\"dataframe\">\n",
       "  <thead>\n",
       "    <tr style=\"text-align: right;\">\n",
       "      <th></th>\n",
       "      <th>Cluster label</th>\n",
       "      <th>Number of fire-stations</th>\n",
       "    </tr>\n",
       "  </thead>\n",
       "  <tbody>\n",
       "    <tr>\n",
       "      <th>0</th>\n",
       "      <td>6</td>\n",
       "      <td>13</td>\n",
       "    </tr>\n",
       "    <tr>\n",
       "      <th>1</th>\n",
       "      <td>2</td>\n",
       "      <td>12</td>\n",
       "    </tr>\n",
       "    <tr>\n",
       "      <th>2</th>\n",
       "      <td>1</td>\n",
       "      <td>12</td>\n",
       "    </tr>\n",
       "    <tr>\n",
       "      <th>3</th>\n",
       "      <td>5</td>\n",
       "      <td>11</td>\n",
       "    </tr>\n",
       "    <tr>\n",
       "      <th>4</th>\n",
       "      <td>7</td>\n",
       "      <td>10</td>\n",
       "    </tr>\n",
       "    <tr>\n",
       "      <th>5</th>\n",
       "      <td>4</td>\n",
       "      <td>9</td>\n",
       "    </tr>\n",
       "    <tr>\n",
       "      <th>6</th>\n",
       "      <td>3</td>\n",
       "      <td>8</td>\n",
       "    </tr>\n",
       "    <tr>\n",
       "      <th>7</th>\n",
       "      <td>0</td>\n",
       "      <td>8</td>\n",
       "    </tr>\n",
       "  </tbody>\n",
       "</table>\n",
       "</div>"
      ],
      "text/plain": [
       "   Cluster label  Number of fire-stations\n",
       "0              6                       13\n",
       "1              2                       12\n",
       "2              1                       12\n",
       "3              5                       11\n",
       "4              7                       10\n",
       "5              4                        9\n",
       "6              3                        8\n",
       "7              0                        8"
      ]
     },
     "execution_count": 346,
     "metadata": {},
     "output_type": "execute_result"
    }
   ],
   "source": [
    "Firestation_clusters_table=pd.DataFrame({'Cluster label':pd.Series(firestation_clusters.labels_).value_counts().keys(),\n",
    "            'Number of fire-stations':list(pd.Series(firestation_clusters.labels_).value_counts().values)})\n",
    "Firestation_clusters_table"
   ]
  },
  {
   "cell_type": "markdown",
   "metadata": {},
   "source": [
    "Next we fit the restaurants geo-location data on the fire-station K Mean cluster Model so that the restaurants are distributed according to the clusters of fire-stations. "
   ]
  },
  {
   "cell_type": "code",
   "execution_count": 356,
   "metadata": {},
   "outputs": [
    {
     "data": {
      "text/plain": [
       "array([3, 7, 7, ..., 4, 6, 6])"
      ]
     },
     "execution_count": 356,
     "metadata": {},
     "output_type": "execute_result"
    }
   ],
   "source": [
    "restaurant_geo=Combined_data_clipped[['Restaurant_long','Restaurant_lat']]\n",
    "restaurant_clusters=firestation_clusters.predict(restaurant_geo)\n",
    "\n",
    "# check cluster labels generated for each row in the dataframe\n",
    "restaurant_clusters"
   ]
  },
  {
   "cell_type": "markdown",
   "metadata": {},
   "source": [
    "**We look at the number of restaurants belonging to each cluster**"
   ]
  },
  {
   "cell_type": "code",
   "execution_count": 347,
   "metadata": {},
   "outputs": [
    {
     "data": {
      "text/html": [
       "<div>\n",
       "<style scoped>\n",
       "    .dataframe tbody tr th:only-of-type {\n",
       "        vertical-align: middle;\n",
       "    }\n",
       "\n",
       "    .dataframe tbody tr th {\n",
       "        vertical-align: top;\n",
       "    }\n",
       "\n",
       "    .dataframe thead th {\n",
       "        text-align: right;\n",
       "    }\n",
       "</style>\n",
       "<table border=\"1\" class=\"dataframe\">\n",
       "  <thead>\n",
       "    <tr style=\"text-align: right;\">\n",
       "      <th></th>\n",
       "      <th>Cluster label</th>\n",
       "      <th>Number of restaurants</th>\n",
       "    </tr>\n",
       "  </thead>\n",
       "  <tbody>\n",
       "    <tr>\n",
       "      <th>0</th>\n",
       "      <td>6</td>\n",
       "      <td>1768</td>\n",
       "    </tr>\n",
       "    <tr>\n",
       "      <th>1</th>\n",
       "      <td>7</td>\n",
       "      <td>555</td>\n",
       "    </tr>\n",
       "    <tr>\n",
       "      <th>2</th>\n",
       "      <td>2</td>\n",
       "      <td>202</td>\n",
       "    </tr>\n",
       "    <tr>\n",
       "      <th>3</th>\n",
       "      <td>1</td>\n",
       "      <td>167</td>\n",
       "    </tr>\n",
       "    <tr>\n",
       "      <th>4</th>\n",
       "      <td>5</td>\n",
       "      <td>76</td>\n",
       "    </tr>\n",
       "    <tr>\n",
       "      <th>5</th>\n",
       "      <td>4</td>\n",
       "      <td>61</td>\n",
       "    </tr>\n",
       "    <tr>\n",
       "      <th>6</th>\n",
       "      <td>3</td>\n",
       "      <td>39</td>\n",
       "    </tr>\n",
       "    <tr>\n",
       "      <th>7</th>\n",
       "      <td>0</td>\n",
       "      <td>17</td>\n",
       "    </tr>\n",
       "  </tbody>\n",
       "</table>\n",
       "</div>"
      ],
      "text/plain": [
       "   Cluster label  Number of restaurants\n",
       "0              6                   1768\n",
       "1              7                    555\n",
       "2              2                    202\n",
       "3              1                    167\n",
       "4              5                     76\n",
       "5              4                     61\n",
       "6              3                     39\n",
       "7              0                     17"
      ]
     },
     "execution_count": 347,
     "metadata": {},
     "output_type": "execute_result"
    }
   ],
   "source": [
    "Restaurant_clusters_table=pd.DataFrame({'Cluster label':pd.Series(restaurant_clusters).value_counts().keys(),\n",
    "                                 'Number of restaurants':list(pd.Series(restaurant_clusters).value_counts().values)})\n",
    "Restaurant_clusters_table"
   ]
  },
  {
   "cell_type": "markdown",
   "metadata": {},
   "source": [
    "**One thing that clearly stands out is that the cluster number 6 has a lot of restaurants under it's range.** Let's combine both clusters data and see how much is a per fire-station responsibility in each cluster."
   ]
  },
  {
   "cell_type": "code",
   "execution_count": 350,
   "metadata": {},
   "outputs": [
    {
     "data": {
      "text/html": [
       "<div>\n",
       "<style scoped>\n",
       "    .dataframe tbody tr th:only-of-type {\n",
       "        vertical-align: middle;\n",
       "    }\n",
       "\n",
       "    .dataframe tbody tr th {\n",
       "        vertical-align: top;\n",
       "    }\n",
       "\n",
       "    .dataframe thead th {\n",
       "        text-align: right;\n",
       "    }\n",
       "</style>\n",
       "<table border=\"1\" class=\"dataframe\">\n",
       "  <thead>\n",
       "    <tr style=\"text-align: right;\">\n",
       "      <th></th>\n",
       "      <th>Cluster label</th>\n",
       "      <th>Number of fire-stations</th>\n",
       "      <th>Number of restaurants</th>\n",
       "    </tr>\n",
       "  </thead>\n",
       "  <tbody>\n",
       "    <tr>\n",
       "      <th>0</th>\n",
       "      <td>6</td>\n",
       "      <td>13</td>\n",
       "      <td>1768</td>\n",
       "    </tr>\n",
       "    <tr>\n",
       "      <th>1</th>\n",
       "      <td>2</td>\n",
       "      <td>12</td>\n",
       "      <td>202</td>\n",
       "    </tr>\n",
       "    <tr>\n",
       "      <th>2</th>\n",
       "      <td>1</td>\n",
       "      <td>12</td>\n",
       "      <td>167</td>\n",
       "    </tr>\n",
       "    <tr>\n",
       "      <th>3</th>\n",
       "      <td>5</td>\n",
       "      <td>11</td>\n",
       "      <td>76</td>\n",
       "    </tr>\n",
       "    <tr>\n",
       "      <th>4</th>\n",
       "      <td>7</td>\n",
       "      <td>10</td>\n",
       "      <td>555</td>\n",
       "    </tr>\n",
       "    <tr>\n",
       "      <th>5</th>\n",
       "      <td>4</td>\n",
       "      <td>9</td>\n",
       "      <td>61</td>\n",
       "    </tr>\n",
       "    <tr>\n",
       "      <th>6</th>\n",
       "      <td>3</td>\n",
       "      <td>8</td>\n",
       "      <td>39</td>\n",
       "    </tr>\n",
       "    <tr>\n",
       "      <th>7</th>\n",
       "      <td>0</td>\n",
       "      <td>8</td>\n",
       "      <td>17</td>\n",
       "    </tr>\n",
       "  </tbody>\n",
       "</table>\n",
       "</div>"
      ],
      "text/plain": [
       "   Cluster label  Number of fire-stations  Number of restaurants\n",
       "0              6                       13                   1768\n",
       "1              2                       12                    202\n",
       "2              1                       12                    167\n",
       "3              5                       11                     76\n",
       "4              7                       10                    555\n",
       "5              4                        9                     61\n",
       "6              3                        8                     39\n",
       "7              0                        8                     17"
      ]
     },
     "execution_count": 350,
     "metadata": {},
     "output_type": "execute_result"
    }
   ],
   "source": [
    "Combined_cluster_table=Firestation_clusters_table.merge(Restaurant_clusters_table,on='Cluster label')\n",
    "Combined_cluster_table"
   ]
  },
  {
   "cell_type": "code",
   "execution_count": 353,
   "metadata": {},
   "outputs": [
    {
     "data": {
      "text/html": [
       "<div>\n",
       "<style scoped>\n",
       "    .dataframe tbody tr th:only-of-type {\n",
       "        vertical-align: middle;\n",
       "    }\n",
       "\n",
       "    .dataframe tbody tr th {\n",
       "        vertical-align: top;\n",
       "    }\n",
       "\n",
       "    .dataframe thead th {\n",
       "        text-align: right;\n",
       "    }\n",
       "</style>\n",
       "<table border=\"1\" class=\"dataframe\">\n",
       "  <thead>\n",
       "    <tr style=\"text-align: right;\">\n",
       "      <th></th>\n",
       "      <th>Cluster label</th>\n",
       "      <th>Number of fire-stations</th>\n",
       "      <th>Number of restaurants</th>\n",
       "      <th>Restaurants per Fire-station</th>\n",
       "    </tr>\n",
       "  </thead>\n",
       "  <tbody>\n",
       "    <tr>\n",
       "      <th>0</th>\n",
       "      <td>6</td>\n",
       "      <td>13</td>\n",
       "      <td>1768</td>\n",
       "      <td>136.000000</td>\n",
       "    </tr>\n",
       "    <tr>\n",
       "      <th>1</th>\n",
       "      <td>2</td>\n",
       "      <td>12</td>\n",
       "      <td>202</td>\n",
       "      <td>16.833333</td>\n",
       "    </tr>\n",
       "    <tr>\n",
       "      <th>2</th>\n",
       "      <td>1</td>\n",
       "      <td>12</td>\n",
       "      <td>167</td>\n",
       "      <td>13.916667</td>\n",
       "    </tr>\n",
       "    <tr>\n",
       "      <th>3</th>\n",
       "      <td>5</td>\n",
       "      <td>11</td>\n",
       "      <td>76</td>\n",
       "      <td>6.909091</td>\n",
       "    </tr>\n",
       "    <tr>\n",
       "      <th>4</th>\n",
       "      <td>7</td>\n",
       "      <td>10</td>\n",
       "      <td>555</td>\n",
       "      <td>55.500000</td>\n",
       "    </tr>\n",
       "    <tr>\n",
       "      <th>5</th>\n",
       "      <td>4</td>\n",
       "      <td>9</td>\n",
       "      <td>61</td>\n",
       "      <td>6.777778</td>\n",
       "    </tr>\n",
       "    <tr>\n",
       "      <th>6</th>\n",
       "      <td>3</td>\n",
       "      <td>8</td>\n",
       "      <td>39</td>\n",
       "      <td>4.875000</td>\n",
       "    </tr>\n",
       "    <tr>\n",
       "      <th>7</th>\n",
       "      <td>0</td>\n",
       "      <td>8</td>\n",
       "      <td>17</td>\n",
       "      <td>2.125000</td>\n",
       "    </tr>\n",
       "  </tbody>\n",
       "</table>\n",
       "</div>"
      ],
      "text/plain": [
       "   Cluster label  Number of fire-stations  Number of restaurants  \\\n",
       "0              6                       13                   1768   \n",
       "1              2                       12                    202   \n",
       "2              1                       12                    167   \n",
       "3              5                       11                     76   \n",
       "4              7                       10                    555   \n",
       "5              4                        9                     61   \n",
       "6              3                        8                     39   \n",
       "7              0                        8                     17   \n",
       "\n",
       "   Restaurants per Fire-station  \n",
       "0                    136.000000  \n",
       "1                     16.833333  \n",
       "2                     13.916667  \n",
       "3                      6.909091  \n",
       "4                     55.500000  \n",
       "5                      6.777778  \n",
       "6                      4.875000  \n",
       "7                      2.125000  "
      ]
     },
     "execution_count": 353,
     "metadata": {},
     "output_type": "execute_result"
    }
   ],
   "source": [
    "Combined_cluster_table['Restaurants per Fire-station']=Combined_cluster_table['Number of restaurants']/Combined_cluster_table['Number of fire-stations']\n",
    "Combined_cluster_table"
   ]
  },
  {
   "cell_type": "markdown",
   "metadata": {},
   "source": [
    "**From our analysis we can clearly see that Fire-stations in cluster 6 and 7 have a much larger number of restaurants under them.**"
   ]
  },
  {
   "cell_type": "markdown",
   "metadata": {},
   "source": [
    "## Next we get the cluster labels into the dataframe of fire-stations and restaurants"
   ]
  },
  {
   "cell_type": "code",
   "execution_count": 358,
   "metadata": {},
   "outputs": [
    {
     "ename": "ValueError",
     "evalue": "cannot insert Cluster Labels, already exists",
     "output_type": "error",
     "traceback": [
      "\u001b[1;31m---------------------------------------------------------------------------\u001b[0m",
      "\u001b[1;31mValueError\u001b[0m                                Traceback (most recent call last)",
      "\u001b[1;32m<ipython-input-358-0d2410e11b5e>\u001b[0m in \u001b[0;36m<module>\u001b[1;34m\u001b[0m\n\u001b[1;32m----> 1\u001b[1;33m \u001b[0mFirestation_data\u001b[0m\u001b[1;33m.\u001b[0m\u001b[0minsert\u001b[0m\u001b[1;33m(\u001b[0m\u001b[1;36m0\u001b[0m\u001b[1;33m,\u001b[0m \u001b[1;34m'Cluster Labels'\u001b[0m\u001b[1;33m,\u001b[0m \u001b[0mfirestation_clusters\u001b[0m\u001b[1;33m.\u001b[0m\u001b[0mlabels_\u001b[0m\u001b[1;33m)\u001b[0m\u001b[1;33m\u001b[0m\u001b[1;33m\u001b[0m\u001b[0m\n\u001b[0m\u001b[0;32m      2\u001b[0m \u001b[0mCombined_data_clipped\u001b[0m\u001b[1;33m.\u001b[0m\u001b[0minsert\u001b[0m\u001b[1;33m(\u001b[0m\u001b[1;36m0\u001b[0m\u001b[1;33m,\u001b[0m \u001b[1;34m'Cluster Labels'\u001b[0m\u001b[1;33m,\u001b[0m \u001b[0mrestaurant_clusters\u001b[0m\u001b[1;33m)\u001b[0m\u001b[1;33m\u001b[0m\u001b[1;33m\u001b[0m\u001b[0m\n",
      "\u001b[1;32m~\\Anaconda3\\lib\\site-packages\\pandas\\core\\frame.py\u001b[0m in \u001b[0;36minsert\u001b[1;34m(self, loc, column, value, allow_duplicates)\u001b[0m\n\u001b[0;32m   3220\u001b[0m         \u001b[0mvalue\u001b[0m \u001b[1;33m=\u001b[0m \u001b[0mself\u001b[0m\u001b[1;33m.\u001b[0m\u001b[0m_sanitize_column\u001b[0m\u001b[1;33m(\u001b[0m\u001b[0mcolumn\u001b[0m\u001b[1;33m,\u001b[0m \u001b[0mvalue\u001b[0m\u001b[1;33m,\u001b[0m \u001b[0mbroadcast\u001b[0m\u001b[1;33m=\u001b[0m\u001b[1;32mFalse\u001b[0m\u001b[1;33m)\u001b[0m\u001b[1;33m\u001b[0m\u001b[1;33m\u001b[0m\u001b[0m\n\u001b[0;32m   3221\u001b[0m         self._data.insert(loc, column, value,\n\u001b[1;32m-> 3222\u001b[1;33m                           allow_duplicates=allow_duplicates)\n\u001b[0m\u001b[0;32m   3223\u001b[0m \u001b[1;33m\u001b[0m\u001b[0m\n\u001b[0;32m   3224\u001b[0m     \u001b[1;32mdef\u001b[0m \u001b[0massign\u001b[0m\u001b[1;33m(\u001b[0m\u001b[0mself\u001b[0m\u001b[1;33m,\u001b[0m \u001b[1;33m**\u001b[0m\u001b[0mkwargs\u001b[0m\u001b[1;33m)\u001b[0m\u001b[1;33m:\u001b[0m\u001b[1;33m\u001b[0m\u001b[1;33m\u001b[0m\u001b[0m\n",
      "\u001b[1;32m~\\Anaconda3\\lib\\site-packages\\pandas\\core\\internals.py\u001b[0m in \u001b[0;36minsert\u001b[1;34m(self, loc, item, value, allow_duplicates)\u001b[0m\n\u001b[0;32m   4336\u001b[0m         \u001b[1;32mif\u001b[0m \u001b[1;32mnot\u001b[0m \u001b[0mallow_duplicates\u001b[0m \u001b[1;32mand\u001b[0m \u001b[0mitem\u001b[0m \u001b[1;32min\u001b[0m \u001b[0mself\u001b[0m\u001b[1;33m.\u001b[0m\u001b[0mitems\u001b[0m\u001b[1;33m:\u001b[0m\u001b[1;33m\u001b[0m\u001b[1;33m\u001b[0m\u001b[0m\n\u001b[0;32m   4337\u001b[0m             \u001b[1;31m# Should this be a different kind of error??\u001b[0m\u001b[1;33m\u001b[0m\u001b[1;33m\u001b[0m\u001b[1;33m\u001b[0m\u001b[0m\n\u001b[1;32m-> 4338\u001b[1;33m             \u001b[1;32mraise\u001b[0m \u001b[0mValueError\u001b[0m\u001b[1;33m(\u001b[0m\u001b[1;34m'cannot insert {}, already exists'\u001b[0m\u001b[1;33m.\u001b[0m\u001b[0mformat\u001b[0m\u001b[1;33m(\u001b[0m\u001b[0mitem\u001b[0m\u001b[1;33m)\u001b[0m\u001b[1;33m)\u001b[0m\u001b[1;33m\u001b[0m\u001b[1;33m\u001b[0m\u001b[0m\n\u001b[0m\u001b[0;32m   4339\u001b[0m \u001b[1;33m\u001b[0m\u001b[0m\n\u001b[0;32m   4340\u001b[0m         \u001b[1;32mif\u001b[0m \u001b[1;32mnot\u001b[0m \u001b[0misinstance\u001b[0m\u001b[1;33m(\u001b[0m\u001b[0mloc\u001b[0m\u001b[1;33m,\u001b[0m \u001b[0mint\u001b[0m\u001b[1;33m)\u001b[0m\u001b[1;33m:\u001b[0m\u001b[1;33m\u001b[0m\u001b[1;33m\u001b[0m\u001b[0m\n",
      "\u001b[1;31mValueError\u001b[0m: cannot insert Cluster Labels, already exists"
     ]
    }
   ],
   "source": [
    "Firestation_data.insert(0, 'Cluster Labels', firestation_clusters.labels_)\n",
    "Combined_data_clipped.insert(0, 'Cluster Labels', restaurant_clusters)"
   ]
  },
  {
   "cell_type": "code",
   "execution_count": 23,
   "metadata": {},
   "outputs": [
    {
     "data": {
      "text/html": [
       "<div>\n",
       "<style scoped>\n",
       "    .dataframe tbody tr th:only-of-type {\n",
       "        vertical-align: middle;\n",
       "    }\n",
       "\n",
       "    .dataframe tbody tr th {\n",
       "        vertical-align: top;\n",
       "    }\n",
       "\n",
       "    .dataframe thead th {\n",
       "        text-align: right;\n",
       "    }\n",
       "</style>\n",
       "<table border=\"1\" class=\"dataframe\">\n",
       "  <thead>\n",
       "    <tr style=\"text-align: right;\">\n",
       "      <th></th>\n",
       "      <th>Cluster Labels</th>\n",
       "      <th>Fire_station_#</th>\n",
       "      <th>x_6degree_UTM_coordinate</th>\n",
       "      <th>y_6degree_UTM_coordinate</th>\n",
       "      <th>longitude</th>\n",
       "      <th>latitude</th>\n",
       "    </tr>\n",
       "  </thead>\n",
       "  <tbody>\n",
       "    <tr>\n",
       "      <th>0</th>\n",
       "      <td>2</td>\n",
       "      <td>111</td>\n",
       "      <td>629254.562</td>\n",
       "      <td>4849606.500</td>\n",
       "      <td>-79.393539</td>\n",
       "      <td>43.788230</td>\n",
       "    </tr>\n",
       "    <tr>\n",
       "      <th>1</th>\n",
       "      <td>2</td>\n",
       "      <td>112</td>\n",
       "      <td>625241.895</td>\n",
       "      <td>4847922.113</td>\n",
       "      <td>-79.443786</td>\n",
       "      <td>43.773759</td>\n",
       "    </tr>\n",
       "    <tr>\n",
       "      <th>2</th>\n",
       "      <td>7</td>\n",
       "      <td>113</td>\n",
       "      <td>632675.000</td>\n",
       "      <td>4849871.000</td>\n",
       "      <td>-79.350979</td>\n",
       "      <td>43.790005</td>\n",
       "    </tr>\n",
       "    <tr>\n",
       "      <th>3</th>\n",
       "      <td>2</td>\n",
       "      <td>114</td>\n",
       "      <td>627526.500</td>\n",
       "      <td>4847651.500</td>\n",
       "      <td>-79.415473</td>\n",
       "      <td>43.770934</td>\n",
       "    </tr>\n",
       "    <tr>\n",
       "      <th>4</th>\n",
       "      <td>7</td>\n",
       "      <td>115</td>\n",
       "      <td>633496.245</td>\n",
       "      <td>4847881.079</td>\n",
       "      <td>-79.341271</td>\n",
       "      <td>43.771948</td>\n",
       "    </tr>\n",
       "  </tbody>\n",
       "</table>\n",
       "</div>"
      ],
      "text/plain": [
       "   Cluster Labels  Fire_station_#  x_6degree_UTM_coordinate  \\\n",
       "0               2             111                629254.562   \n",
       "1               2             112                625241.895   \n",
       "2               7             113                632675.000   \n",
       "3               2             114                627526.500   \n",
       "4               7             115                633496.245   \n",
       "\n",
       "   y_6degree_UTM_coordinate  longitude   latitude  \n",
       "0               4849606.500 -79.393539  43.788230  \n",
       "1               4847922.113 -79.443786  43.773759  \n",
       "2               4849871.000 -79.350979  43.790005  \n",
       "3               4847651.500 -79.415473  43.770934  \n",
       "4               4847881.079 -79.341271  43.771948  "
      ]
     },
     "execution_count": 23,
     "metadata": {},
     "output_type": "execute_result"
    }
   ],
   "source": [
    "Firestation_data.head()"
   ]
  },
  {
   "cell_type": "code",
   "execution_count": 24,
   "metadata": {},
   "outputs": [
    {
     "data": {
      "text/html": [
       "<div>\n",
       "<style scoped>\n",
       "    .dataframe tbody tr th:only-of-type {\n",
       "        vertical-align: middle;\n",
       "    }\n",
       "\n",
       "    .dataframe tbody tr th {\n",
       "        vertical-align: top;\n",
       "    }\n",
       "\n",
       "    .dataframe thead th {\n",
       "        text-align: right;\n",
       "    }\n",
       "</style>\n",
       "<table border=\"1\" class=\"dataframe\">\n",
       "  <thead>\n",
       "    <tr style=\"text-align: right;\">\n",
       "      <th></th>\n",
       "      <th>Cluster Labels</th>\n",
       "      <th>Neighborhood</th>\n",
       "      <th>Neighborhood_lat</th>\n",
       "      <th>Neighborhood_long</th>\n",
       "      <th>Restaurant</th>\n",
       "      <th>Restaurant_lat</th>\n",
       "      <th>Restaurant_long</th>\n",
       "      <th>PostalCode</th>\n",
       "      <th>Borough</th>\n",
       "    </tr>\n",
       "  </thead>\n",
       "  <tbody>\n",
       "    <tr>\n",
       "      <th>0</th>\n",
       "      <td>3</td>\n",
       "      <td>Malvern, Rouge</td>\n",
       "      <td>43.806686</td>\n",
       "      <td>-79.194353</td>\n",
       "      <td>Ted's Restaurant</td>\n",
       "      <td>43.784468</td>\n",
       "      <td>-79.169200</td>\n",
       "      <td>M1B</td>\n",
       "      <td>Scarborough</td>\n",
       "    </tr>\n",
       "    <tr>\n",
       "      <th>1</th>\n",
       "      <td>7</td>\n",
       "      <td>Malvern, Rouge</td>\n",
       "      <td>43.806686</td>\n",
       "      <td>-79.194353</td>\n",
       "      <td>Perfect Chinese Restaurant 雅瓊海鮮酒家</td>\n",
       "      <td>43.787774</td>\n",
       "      <td>-79.270294</td>\n",
       "      <td>M1B</td>\n",
       "      <td>Scarborough</td>\n",
       "    </tr>\n",
       "    <tr>\n",
       "      <th>3</th>\n",
       "      <td>7</td>\n",
       "      <td>Malvern, Rouge</td>\n",
       "      <td>43.806686</td>\n",
       "      <td>-79.194353</td>\n",
       "      <td>東海漁村 Tasty BBQ Seafood Restaurant (Tasty BBQ S...</td>\n",
       "      <td>43.794425</td>\n",
       "      <td>-79.353300</td>\n",
       "      <td>M1B</td>\n",
       "      <td>Scarborough</td>\n",
       "    </tr>\n",
       "    <tr>\n",
       "      <th>5</th>\n",
       "      <td>7</td>\n",
       "      <td>Malvern, Rouge</td>\n",
       "      <td>43.806686</td>\n",
       "      <td>-79.194353</td>\n",
       "      <td>Inware Restaurant Equipment and Supplies 宏鑫餐具</td>\n",
       "      <td>43.804130</td>\n",
       "      <td>-79.296060</td>\n",
       "      <td>M1B</td>\n",
       "      <td>Scarborough</td>\n",
       "    </tr>\n",
       "    <tr>\n",
       "      <th>8</th>\n",
       "      <td>7</td>\n",
       "      <td>Malvern, Rouge</td>\n",
       "      <td>43.806686</td>\n",
       "      <td>-79.194353</td>\n",
       "      <td>Fortune House Restaurant 富記</td>\n",
       "      <td>43.790025</td>\n",
       "      <td>-79.302509</td>\n",
       "      <td>M1B</td>\n",
       "      <td>Scarborough</td>\n",
       "    </tr>\n",
       "  </tbody>\n",
       "</table>\n",
       "</div>"
      ],
      "text/plain": [
       "   Cluster Labels    Neighborhood  Neighborhood_lat  Neighborhood_long  \\\n",
       "0               3  Malvern, Rouge         43.806686         -79.194353   \n",
       "1               7  Malvern, Rouge         43.806686         -79.194353   \n",
       "3               7  Malvern, Rouge         43.806686         -79.194353   \n",
       "5               7  Malvern, Rouge         43.806686         -79.194353   \n",
       "8               7  Malvern, Rouge         43.806686         -79.194353   \n",
       "\n",
       "                                          Restaurant  Restaurant_lat  \\\n",
       "0                                   Ted's Restaurant       43.784468   \n",
       "1                  Perfect Chinese Restaurant 雅瓊海鮮酒家       43.787774   \n",
       "3  東海漁村 Tasty BBQ Seafood Restaurant (Tasty BBQ S...       43.794425   \n",
       "5      Inware Restaurant Equipment and Supplies 宏鑫餐具       43.804130   \n",
       "8                        Fortune House Restaurant 富記       43.790025   \n",
       "\n",
       "   Restaurant_long PostalCode      Borough  \n",
       "0       -79.169200        M1B  Scarborough  \n",
       "1       -79.270294        M1B  Scarborough  \n",
       "3       -79.353300        M1B  Scarborough  \n",
       "5       -79.296060        M1B  Scarborough  \n",
       "8       -79.302509        M1B  Scarborough  "
      ]
     },
     "execution_count": 24,
     "metadata": {},
     "output_type": "execute_result"
    }
   ],
   "source": [
    "Combined_data_clipped.head()"
   ]
  },
  {
   "cell_type": "markdown",
   "metadata": {},
   "source": [
    "Finally, let's visualize the clusters and see which locations have the clusters with the most restaurant per fire-stations. So, that the city of Toronto might use this information in city planning."
   ]
  },
  {
   "cell_type": "code",
   "execution_count": 39,
   "metadata": {},
   "outputs": [],
   "source": [
    "import folium\n",
    "import matplotlib.cm as cm\n",
    "import matplotlib.colors as colors"
   ]
  },
  {
   "cell_type": "markdown",
   "metadata": {},
   "source": [
    "**First, we show the clusters of fire-stations on the map of Toronto.**"
   ]
  },
  {
   "cell_type": "code",
   "execution_count": 244,
   "metadata": {
    "scrolled": true
   },
   "outputs": [
    {
     "data": {
      "text/html": [
       "<div style=\"width:100%;\"><div style=\"position:relative;width:100%;height:0;padding-bottom:60%;\"><iframe src=\"data:text/html;charset=utf-8;base64,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\" style=\"position:absolute;width:100%;height:100%;left:0;top:0;border:none !important;\" allowfullscreen webkitallowfullscreen mozallowfullscreen></iframe></div></div>"
      ],
      "text/plain": [
       "<folium.folium.Map at 0x1bfdee77550>"
      ]
     },
     "execution_count": 244,
     "metadata": {},
     "output_type": "execute_result"
    }
   ],
   "source": [
    "toronto_lat=43.7\n",
    "toronto_long=-79.3832\n",
    "# create map of toronto using latitude and longitude values\n",
    "map_toronto = folium.Map(location=[toronto_lat, toronto_long], zoom_start=10.5)\n",
    "\n",
    "colors_array = cm.rainbow(np.linspace(0, 1, kclusters))\n",
    "rainbow = [colors.rgb2hex(i) for i in colors_array]\n",
    "\n",
    "# # add markers to map\n",
    "for lat, lng, fire_station, cluster in zip(Firestation_data['latitude'], Firestation_data['longitude'],\n",
    "                                           Firestation_data['Fire_station_#'],Firestation_data['Cluster Labels']):\n",
    "    label = 'Fire Station # {}, Cluster # {}'.format(fire_station,cluster)\n",
    "    label = folium.Popup(label, parse_html=True)\n",
    "    folium.CircleMarker(\n",
    "      [lat, lng],\n",
    "      radius=5,\n",
    "      popup=label,\n",
    "      color=rainbow[cluster],\n",
    "      fill=True,\n",
    "      fill_color=rainbow[cluster],\n",
    "      fill_opacity=1,\n",
    "      parse_html=False).add_to(map_toronto)  \n",
    "    \n",
    "map_toronto"
   ]
  },
  {
   "cell_type": "markdown",
   "metadata": {},
   "source": [
    "**The Boroughs and number of restaurants in those boroughs in the critical clusters with highest Restaurant to fire-stations ratio**\n",
    "\n",
    "Starting with Cluster label 6 which has 136 restaurants per fire-station."
   ]
  },
  {
   "cell_type": "code",
   "execution_count": 359,
   "metadata": {},
   "outputs": [],
   "source": [
    "Critical_cluster1=Combined_data_clipped[Combined_data_clipped['Cluster Labels']==6]"
   ]
  },
  {
   "cell_type": "code",
   "execution_count": 360,
   "metadata": {},
   "outputs": [
    {
     "data": {
      "text/plain": [
       "Downtown Toronto    533\n",
       "North York          256\n",
       "Etobicoke           233\n",
       "Central Toronto     210\n",
       "West Toronto        146\n",
       "York                116\n",
       "East Toronto         92\n",
       "East York            72\n",
       "Scarborough          66\n",
       "Queen's Park         30\n",
       "Mississauga          14\n",
       "Name: Borough, dtype: int64"
      ]
     },
     "execution_count": 360,
     "metadata": {},
     "output_type": "execute_result"
    }
   ],
   "source": [
    "Critical_cluster1.Borough.value_counts()"
   ]
  },
  {
   "cell_type": "markdown",
   "metadata": {},
   "source": [
    "Most of these restaurants are in Downtown Toronto as expected in any big metropolis. But along with that in Bouroughs like North York, Etobicoke and Central Toronto.\n",
    "\n",
    "**Next Cluster Label 7 which has about 55 restaurants per fire-stations.**"
   ]
  },
  {
   "cell_type": "code",
   "execution_count": 361,
   "metadata": {},
   "outputs": [],
   "source": [
    "Critical_cluster2=Combined_data_clipped[Combined_data_clipped['Cluster Labels']==7]"
   ]
  },
  {
   "cell_type": "code",
   "execution_count": 362,
   "metadata": {},
   "outputs": [
    {
     "data": {
      "text/plain": [
       "Scarborough        300\n",
       "North York         192\n",
       "East York           22\n",
       "Central Toronto     17\n",
       "Etobicoke           10\n",
       "York                 7\n",
       "East Toronto         7\n",
       "Name: Borough, dtype: int64"
      ]
     },
     "execution_count": 362,
     "metadata": {},
     "output_type": "execute_result"
    }
   ],
   "source": [
    "Critical_cluster2.Borough.value_counts()"
   ]
  },
  {
   "cell_type": "markdown",
   "metadata": {},
   "source": [
    "In this cluster the Borough of Scarborough and North York has the highest Number of restaurants."
   ]
  },
  {
   "cell_type": "markdown",
   "metadata": {},
   "source": [
    "## Finally, let's visualize the clusters of fire-stations and restaurants together. \n",
    "Since the number of data-points for restaurants is very high so the folium maps was not able to visualize them, so we resorted to **scatter plot of geo-coordinates**, that also serves the purpose."
   ]
  },
  {
   "cell_type": "code",
   "execution_count": 243,
   "metadata": {},
   "outputs": [
    {
     "data": {
      "image/png": "[encoded data removed]",
      "text/plain": [
       "<Figure size 864x720 with 1 Axes>"
      ]
     },
     "metadata": {
      "needs_background": "light"
     },
     "output_type": "display_data"
    }
   ],
   "source": [
    "plt.figure(figsize=(12,10))\n",
    "\n",
    "colors_array = cm.rainbow(np.linspace(0, 1, kclusters))\n",
    "rainbow = [colors.rgb2hex(i) for i in colors_array]\n",
    "for k in range(kclusters):\n",
    "    imask=Combined_data_clipped['Cluster Labels']==k\n",
    "    imask1=Firestation_data['Cluster Labels']==k\n",
    "    x1=Firestation_data.longitude[imask1]\n",
    "    y1=Firestation_data.latitude[imask1]\n",
    "    x=Combined_data_clipped.Restaurant_long[imask]\n",
    "    y=Combined_data_clipped.Restaurant_lat[imask]\n",
    "    plt.scatter(x,y,color=rainbow[k],marker='+',label='label: '+str(k))\n",
    "    plt.scatter(x1,y1,color=rainbow[k],marker='*',label='label '+str(k))\n",
    "plt.legend(loc=4)\n",
    "plt.xlabel('Longitude')\n",
    "plt.ylabel('Latitude')\n",
    "plt.title('Geographical Clusters of Restaurants and Firestations\\n\\\n",
    "           Restaurant clusters shown in + and Firestation cluster in *')\n",
    "plt.rc('font',size=12)"
   ]
  },
  {
   "cell_type": "markdown",
   "metadata": {},
   "source": [
    "# Conclusion\n",
    "From our analysis of clustering the fire-stations and restaurants we found one aspect of city planning that the city of Toronto keep in mind to prepare for fire accidents that might occur in restaurants. The restaurants handle fire in day-to-day business, so the fire-stations that are closest to them should be in proportion to restaurants in the area. We indentified clusters where the ratio of restaurants to fire-stations was highly skewed. So, the city of Toronto needs to pay attention to this fact, either by increasing fire-stations in those areas or upscaling the ones already there. The most critical Boroughs under which these clusters lies are Downtown Toronto , North York and Scarborough "
   ]
  }
 ],
 "metadata": {
  "kernelspec": {
   "display_name": "Python 3",
   "language": "python",
   "name": "python3"
  },
  "language_info": {
   "codemirror_mode": {
    "name": "ipython",
    "version": 3
   },
   "file_extension": ".py",
   "mimetype": "text/x-python",
   "name": "python",
   "nbconvert_exporter": "python",
   "pygments_lexer": "ipython3",
   "version": "3.7.1"
  }
 },
 "nbformat": 4,
 "nbformat_minor": 2
}
