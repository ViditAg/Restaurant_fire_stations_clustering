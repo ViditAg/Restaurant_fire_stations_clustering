{
 "cells": [
  {
   "cell_type": "markdown",
   "metadata": {},
   "source": [
    "# Clustering of Restaurants based on the Fire-stations in Toronto\n",
    "1. Load the dataframes for Restaurants, Neighborhoods and Fire-stations previously created.\n",
    "2. Perform K-mean clustering algorithm on the Fire-stations locations, find the best value for Number of Clusters.\n",
    "3. Fit the K-mean Model on the Restaurant Locations.\n",
    "4. Visualize the maps and present the results.\n",
    "\n",
    "Please use this link to open the Jupyter notebook to see the maps: \n",
    "\n",
    "https://nbviewer.jupyter.org/"
   ]
  },
  {
   "cell_type": "markdown",
   "metadata": {},
   "source": [
    "Import neccessary libraries."
   ]
  },
  {
   "cell_type": "code",
   "execution_count": 1,
   "metadata": {},
   "outputs": [],
   "source": [
    "import numpy as np\n",
    "import pandas as pd\n",
    "import matplotlib.pyplot as plt\n",
    "import folium\n",
    "%matplotlib inline"
   ]
  },
  {
   "cell_type": "markdown",
   "metadata": {},
   "source": [
    "**Reading the dataframe for neighborhoods and boroughs**"
   ]
  },
  {
   "cell_type": "code",
   "execution_count": 2,
   "metadata": {},
   "outputs": [],
   "source": [
    "Neighborhood_data=pd.read_csv('Neighborhoods_Toronto.csv')"
   ]
  },
  {
   "cell_type": "code",
   "execution_count": 3,
   "metadata": {},
   "outputs": [
    {
     "data": {
      "text/html": [
       "<div>\n",
       "<style scoped>\n",
       "    .dataframe tbody tr th:only-of-type {\n",
       "        vertical-align: middle;\n",
       "    }\n",
       "\n",
       "    .dataframe tbody tr th {\n",
       "        vertical-align: top;\n",
       "    }\n",
       "\n",
       "    .dataframe thead th {\n",
       "        text-align: right;\n",
       "    }\n",
       "</style>\n",
       "<table border=\"1\" class=\"dataframe\">\n",
       "  <thead>\n",
       "    <tr style=\"text-align: right;\">\n",
       "      <th></th>\n",
       "      <th>PostalCode</th>\n",
       "      <th>Borough</th>\n",
       "      <th>Neighborhood</th>\n",
       "      <th>Latitude</th>\n",
       "      <th>Longitude</th>\n",
       "    </tr>\n",
       "  </thead>\n",
       "  <tbody>\n",
       "    <tr>\n",
       "      <th>0</th>\n",
       "      <td>M1B</td>\n",
       "      <td>Scarborough</td>\n",
       "      <td>Malvern, Rouge</td>\n",
       "      <td>43.806686</td>\n",
       "      <td>-79.194353</td>\n",
       "    </tr>\n",
       "    <tr>\n",
       "      <th>1</th>\n",
       "      <td>M1C</td>\n",
       "      <td>Scarborough</td>\n",
       "      <td>Highland Creek, Port Union, Rouge Hill</td>\n",
       "      <td>43.784535</td>\n",
       "      <td>-79.160497</td>\n",
       "    </tr>\n",
       "    <tr>\n",
       "      <th>2</th>\n",
       "      <td>M1E</td>\n",
       "      <td>Scarborough</td>\n",
       "      <td>Guildwood, Morningside, West Hill</td>\n",
       "      <td>43.763573</td>\n",
       "      <td>-79.188711</td>\n",
       "    </tr>\n",
       "    <tr>\n",
       "      <th>3</th>\n",
       "      <td>M1G</td>\n",
       "      <td>Scarborough</td>\n",
       "      <td>Woburn</td>\n",
       "      <td>43.770992</td>\n",
       "      <td>-79.216917</td>\n",
       "    </tr>\n",
       "    <tr>\n",
       "      <th>4</th>\n",
       "      <td>M1H</td>\n",
       "      <td>Scarborough</td>\n",
       "      <td>Cedarbrae</td>\n",
       "      <td>43.773136</td>\n",
       "      <td>-79.239476</td>\n",
       "    </tr>\n",
       "  </tbody>\n",
       "</table>\n",
       "</div>"
      ],
      "text/plain": [
       "  PostalCode      Borough                            Neighborhood   Latitude  \\\n",
       "0        M1B  Scarborough                          Malvern, Rouge  43.806686   \n",
       "1        M1C  Scarborough  Highland Creek, Port Union, Rouge Hill  43.784535   \n",
       "2        M1E  Scarborough       Guildwood, Morningside, West Hill  43.763573   \n",
       "3        M1G  Scarborough                                  Woburn  43.770992   \n",
       "4        M1H  Scarborough                               Cedarbrae  43.773136   \n",
       "\n",
       "   Longitude  \n",
       "0 -79.194353  \n",
       "1 -79.160497  \n",
       "2 -79.188711  \n",
       "3 -79.216917  \n",
       "4 -79.239476  "
      ]
     },
     "execution_count": 3,
     "metadata": {},
     "output_type": "execute_result"
    }
   ],
   "source": [
    "Neighborhood_data.head()"
   ]
  },
  {
   "cell_type": "code",
   "execution_count": 4,
   "metadata": {},
   "outputs": [
    {
     "name": "stdout",
     "output_type": "stream",
     "text": [
      "Number of in Neighborhoods based on postal code 103\n"
     ]
    }
   ],
   "source": [
    "print('Number of in Neighborhoods based on postal code',Neighborhood_data.shape[0])"
   ]
  },
  {
   "cell_type": "markdown",
   "metadata": {},
   "source": [
    "**Loading the dataframe for the Restaurants**"
   ]
  },
  {
   "cell_type": "code",
   "execution_count": 5,
   "metadata": {},
   "outputs": [],
   "source": [
    "Restaurant_data=pd.read_csv('Toronto_Restaurants.csv')"
   ]
  },
  {
   "cell_type": "code",
   "execution_count": 6,
   "metadata": {},
   "outputs": [
    {
     "data": {
      "text/html": [
       "<div>\n",
       "<style scoped>\n",
       "    .dataframe tbody tr th:only-of-type {\n",
       "        vertical-align: middle;\n",
       "    }\n",
       "\n",
       "    .dataframe tbody tr th {\n",
       "        vertical-align: top;\n",
       "    }\n",
       "\n",
       "    .dataframe thead th {\n",
       "        text-align: right;\n",
       "    }\n",
       "</style>\n",
       "<table border=\"1\" class=\"dataframe\">\n",
       "  <thead>\n",
       "    <tr style=\"text-align: right;\">\n",
       "      <th></th>\n",
       "      <th>Neighborhood</th>\n",
       "      <th>Neighborhood_lat</th>\n",
       "      <th>Neighborhood_long</th>\n",
       "      <th>Restaurant</th>\n",
       "      <th>Restaurant_lat</th>\n",
       "      <th>Restaurant_long</th>\n",
       "    </tr>\n",
       "  </thead>\n",
       "  <tbody>\n",
       "    <tr>\n",
       "      <th>0</th>\n",
       "      <td>Malvern, Rouge</td>\n",
       "      <td>43.806686</td>\n",
       "      <td>-79.194353</td>\n",
       "      <td>Ted's Restaurant</td>\n",
       "      <td>43.784468</td>\n",
       "      <td>-79.169200</td>\n",
       "    </tr>\n",
       "    <tr>\n",
       "      <th>1</th>\n",
       "      <td>Malvern, Rouge</td>\n",
       "      <td>43.806686</td>\n",
       "      <td>-79.194353</td>\n",
       "      <td>Perfect Chinese Restaurant 雅瓊海鮮酒家</td>\n",
       "      <td>43.787774</td>\n",
       "      <td>-79.270294</td>\n",
       "    </tr>\n",
       "    <tr>\n",
       "      <th>2</th>\n",
       "      <td>Malvern, Rouge</td>\n",
       "      <td>43.806686</td>\n",
       "      <td>-79.194353</td>\n",
       "      <td>Alton Restaurant 益街坊</td>\n",
       "      <td>43.825582</td>\n",
       "      <td>-79.276038</td>\n",
       "    </tr>\n",
       "    <tr>\n",
       "      <th>3</th>\n",
       "      <td>Malvern, Rouge</td>\n",
       "      <td>43.806686</td>\n",
       "      <td>-79.194353</td>\n",
       "      <td>東海漁村 Tasty BBQ Seafood Restaurant (Tasty BBQ S...</td>\n",
       "      <td>43.794425</td>\n",
       "      <td>-79.353300</td>\n",
       "    </tr>\n",
       "    <tr>\n",
       "      <th>4</th>\n",
       "      <td>Malvern, Rouge</td>\n",
       "      <td>43.806686</td>\n",
       "      <td>-79.194353</td>\n",
       "      <td>Federick Restaurant</td>\n",
       "      <td>43.851124</td>\n",
       "      <td>-79.253210</td>\n",
       "    </tr>\n",
       "  </tbody>\n",
       "</table>\n",
       "</div>"
      ],
      "text/plain": [
       "     Neighborhood  Neighborhood_lat  Neighborhood_long  \\\n",
       "0  Malvern, Rouge         43.806686         -79.194353   \n",
       "1  Malvern, Rouge         43.806686         -79.194353   \n",
       "2  Malvern, Rouge         43.806686         -79.194353   \n",
       "3  Malvern, Rouge         43.806686         -79.194353   \n",
       "4  Malvern, Rouge         43.806686         -79.194353   \n",
       "\n",
       "                                          Restaurant  Restaurant_lat  \\\n",
       "0                                   Ted's Restaurant       43.784468   \n",
       "1                  Perfect Chinese Restaurant 雅瓊海鮮酒家       43.787774   \n",
       "2                               Alton Restaurant 益街坊       43.825582   \n",
       "3  東海漁村 Tasty BBQ Seafood Restaurant (Tasty BBQ S...       43.794425   \n",
       "4                                Federick Restaurant       43.851124   \n",
       "\n",
       "   Restaurant_long  \n",
       "0       -79.169200  \n",
       "1       -79.270294  \n",
       "2       -79.276038  \n",
       "3       -79.353300  \n",
       "4       -79.253210  "
      ]
     },
     "execution_count": 6,
     "metadata": {},
     "output_type": "execute_result"
    }
   ],
   "source": [
    "Restaurant_data.head()"
   ]
  },
  {
   "cell_type": "code",
   "execution_count": 7,
   "metadata": {},
   "outputs": [
    {
     "name": "stdout",
     "output_type": "stream",
     "text": [
      "Number of Restaurants 3090\n"
     ]
    }
   ],
   "source": [
    "print('Number of Restaurants',Restaurant_data.shape[0])"
   ]
  },
  {
   "cell_type": "markdown",
   "metadata": {},
   "source": [
    "Let's join the two dataframes on Neighborhood column. This will connect the Restaurants with the Boroughs they are located in as well. "
   ]
  },
  {
   "cell_type": "code",
   "execution_count": 8,
   "metadata": {},
   "outputs": [],
   "source": [
    "Combined_data=Restaurant_data.merge(Neighborhood_data,how='left',on='Neighborhood')"
   ]
  },
  {
   "cell_type": "code",
   "execution_count": 9,
   "metadata": {},
   "outputs": [],
   "source": [
    "Combined_data.drop(columns=['Latitude','Longitude'],inplace=True)"
   ]
  },
  {
   "cell_type": "code",
   "execution_count": 10,
   "metadata": {},
   "outputs": [
    {
     "data": {
      "text/html": [
       "<div>\n",
       "<style scoped>\n",
       "    .dataframe tbody tr th:only-of-type {\n",
       "        vertical-align: middle;\n",
       "    }\n",
       "\n",
       "    .dataframe tbody tr th {\n",
       "        vertical-align: top;\n",
       "    }\n",
       "\n",
       "    .dataframe thead th {\n",
       "        text-align: right;\n",
       "    }\n",
       "</style>\n",
       "<table border=\"1\" class=\"dataframe\">\n",
       "  <thead>\n",
       "    <tr style=\"text-align: right;\">\n",
       "      <th></th>\n",
       "      <th>Neighborhood</th>\n",
       "      <th>Neighborhood_lat</th>\n",
       "      <th>Neighborhood_long</th>\n",
       "      <th>Restaurant</th>\n",
       "      <th>Restaurant_lat</th>\n",
       "      <th>Restaurant_long</th>\n",
       "      <th>PostalCode</th>\n",
       "      <th>Borough</th>\n",
       "    </tr>\n",
       "  </thead>\n",
       "  <tbody>\n",
       "    <tr>\n",
       "      <th>0</th>\n",
       "      <td>Malvern, Rouge</td>\n",
       "      <td>43.806686</td>\n",
       "      <td>-79.194353</td>\n",
       "      <td>Ted's Restaurant</td>\n",
       "      <td>43.784468</td>\n",
       "      <td>-79.169200</td>\n",
       "      <td>M1B</td>\n",
       "      <td>Scarborough</td>\n",
       "    </tr>\n",
       "    <tr>\n",
       "      <th>1</th>\n",
       "      <td>Malvern, Rouge</td>\n",
       "      <td>43.806686</td>\n",
       "      <td>-79.194353</td>\n",
       "      <td>Perfect Chinese Restaurant 雅瓊海鮮酒家</td>\n",
       "      <td>43.787774</td>\n",
       "      <td>-79.270294</td>\n",
       "      <td>M1B</td>\n",
       "      <td>Scarborough</td>\n",
       "    </tr>\n",
       "    <tr>\n",
       "      <th>2</th>\n",
       "      <td>Malvern, Rouge</td>\n",
       "      <td>43.806686</td>\n",
       "      <td>-79.194353</td>\n",
       "      <td>Alton Restaurant 益街坊</td>\n",
       "      <td>43.825582</td>\n",
       "      <td>-79.276038</td>\n",
       "      <td>M1B</td>\n",
       "      <td>Scarborough</td>\n",
       "    </tr>\n",
       "    <tr>\n",
       "      <th>3</th>\n",
       "      <td>Malvern, Rouge</td>\n",
       "      <td>43.806686</td>\n",
       "      <td>-79.194353</td>\n",
       "      <td>東海漁村 Tasty BBQ Seafood Restaurant (Tasty BBQ S...</td>\n",
       "      <td>43.794425</td>\n",
       "      <td>-79.353300</td>\n",
       "      <td>M1B</td>\n",
       "      <td>Scarborough</td>\n",
       "    </tr>\n",
       "    <tr>\n",
       "      <th>4</th>\n",
       "      <td>Malvern, Rouge</td>\n",
       "      <td>43.806686</td>\n",
       "      <td>-79.194353</td>\n",
       "      <td>Federick Restaurant</td>\n",
       "      <td>43.851124</td>\n",
       "      <td>-79.253210</td>\n",
       "      <td>M1B</td>\n",
       "      <td>Scarborough</td>\n",
       "    </tr>\n",
       "  </tbody>\n",
       "</table>\n",
       "</div>"
      ],
      "text/plain": [
       "     Neighborhood  Neighborhood_lat  Neighborhood_long  \\\n",
       "0  Malvern, Rouge         43.806686         -79.194353   \n",
       "1  Malvern, Rouge         43.806686         -79.194353   \n",
       "2  Malvern, Rouge         43.806686         -79.194353   \n",
       "3  Malvern, Rouge         43.806686         -79.194353   \n",
       "4  Malvern, Rouge         43.806686         -79.194353   \n",
       "\n",
       "                                          Restaurant  Restaurant_lat  \\\n",
       "0                                   Ted's Restaurant       43.784468   \n",
       "1                  Perfect Chinese Restaurant 雅瓊海鮮酒家       43.787774   \n",
       "2                               Alton Restaurant 益街坊       43.825582   \n",
       "3  東海漁村 Tasty BBQ Seafood Restaurant (Tasty BBQ S...       43.794425   \n",
       "4                                Federick Restaurant       43.851124   \n",
       "\n",
       "   Restaurant_long PostalCode      Borough  \n",
       "0       -79.169200        M1B  Scarborough  \n",
       "1       -79.270294        M1B  Scarborough  \n",
       "2       -79.276038        M1B  Scarborough  \n",
       "3       -79.353300        M1B  Scarborough  \n",
       "4       -79.253210        M1B  Scarborough  "
      ]
     },
     "execution_count": 10,
     "metadata": {},
     "output_type": "execute_result"
    }
   ],
   "source": [
    "Combined_data.head(5)"
   ]
  },
  {
   "cell_type": "code",
   "execution_count": 11,
   "metadata": {},
   "outputs": [
    {
     "name": "stdout",
     "output_type": "stream",
     "text": [
      "Number of rows 3090\n"
     ]
    }
   ],
   "source": [
    "print('Number of rows',Combined_data.shape[0])"
   ]
  },
  {
   "cell_type": "markdown",
   "metadata": {},
   "source": [
    "**Loading the dataframe for Fire stations data**"
   ]
  },
  {
   "cell_type": "code",
   "execution_count": 12,
   "metadata": {},
   "outputs": [],
   "source": [
    "Firestation_data=pd.read_csv('Firestations_Toronto.csv')"
   ]
  },
  {
   "cell_type": "code",
   "execution_count": 13,
   "metadata": {},
   "outputs": [
    {
     "data": {
      "text/html": [
       "<div>\n",
       "<style scoped>\n",
       "    .dataframe tbody tr th:only-of-type {\n",
       "        vertical-align: middle;\n",
       "    }\n",
       "\n",
       "    .dataframe tbody tr th {\n",
       "        vertical-align: top;\n",
       "    }\n",
       "\n",
       "    .dataframe thead th {\n",
       "        text-align: right;\n",
       "    }\n",
       "</style>\n",
       "<table border=\"1\" class=\"dataframe\">\n",
       "  <thead>\n",
       "    <tr style=\"text-align: right;\">\n",
       "      <th></th>\n",
       "      <th>Fire_station_#</th>\n",
       "      <th>x_6degree_UTM_coordinate</th>\n",
       "      <th>y_6degree_UTM_coordinate</th>\n",
       "      <th>longitude</th>\n",
       "      <th>latitude</th>\n",
       "    </tr>\n",
       "  </thead>\n",
       "  <tbody>\n",
       "    <tr>\n",
       "      <th>0</th>\n",
       "      <td>111</td>\n",
       "      <td>629254.562</td>\n",
       "      <td>4849606.500</td>\n",
       "      <td>-79.393539</td>\n",
       "      <td>43.788230</td>\n",
       "    </tr>\n",
       "    <tr>\n",
       "      <th>1</th>\n",
       "      <td>112</td>\n",
       "      <td>625241.895</td>\n",
       "      <td>4847922.113</td>\n",
       "      <td>-79.443786</td>\n",
       "      <td>43.773759</td>\n",
       "    </tr>\n",
       "    <tr>\n",
       "      <th>2</th>\n",
       "      <td>113</td>\n",
       "      <td>632675.000</td>\n",
       "      <td>4849871.000</td>\n",
       "      <td>-79.350979</td>\n",
       "      <td>43.790005</td>\n",
       "    </tr>\n",
       "    <tr>\n",
       "      <th>3</th>\n",
       "      <td>114</td>\n",
       "      <td>627526.500</td>\n",
       "      <td>4847651.500</td>\n",
       "      <td>-79.415473</td>\n",
       "      <td>43.770934</td>\n",
       "    </tr>\n",
       "    <tr>\n",
       "      <th>4</th>\n",
       "      <td>115</td>\n",
       "      <td>633496.245</td>\n",
       "      <td>4847881.079</td>\n",
       "      <td>-79.341271</td>\n",
       "      <td>43.771948</td>\n",
       "    </tr>\n",
       "  </tbody>\n",
       "</table>\n",
       "</div>"
      ],
      "text/plain": [
       "   Fire_station_#  x_6degree_UTM_coordinate  y_6degree_UTM_coordinate  \\\n",
       "0             111                629254.562               4849606.500   \n",
       "1             112                625241.895               4847922.113   \n",
       "2             113                632675.000               4849871.000   \n",
       "3             114                627526.500               4847651.500   \n",
       "4             115                633496.245               4847881.079   \n",
       "\n",
       "   longitude   latitude  \n",
       "0 -79.393539  43.788230  \n",
       "1 -79.443786  43.773759  \n",
       "2 -79.350979  43.790005  \n",
       "3 -79.415473  43.770934  \n",
       "4 -79.341271  43.771948  "
      ]
     },
     "execution_count": 13,
     "metadata": {},
     "output_type": "execute_result"
    }
   ],
   "source": [
    "Firestation_data.head()"
   ]
  },
  {
   "cell_type": "code",
   "execution_count": 14,
   "metadata": {},
   "outputs": [
    {
     "name": "stdout",
     "output_type": "stream",
     "text": [
      "Number of Fire stations 83\n"
     ]
    }
   ],
   "source": [
    "print('Number of Fire stations',Firestation_data.shape[0])"
   ]
  },
  {
   "cell_type": "markdown",
   "metadata": {},
   "source": [
    "## Visualizing the Geo-locations of Restaurants and Firestations"
   ]
  },
  {
   "cell_type": "code",
   "execution_count": 15,
   "metadata": {},
   "outputs": [
    {
     "data": {
      "text/plain": [
       "Text(0.5, 1.0, 'Geo-Location of Restaurants and Firestations')"
      ]
     },
     "execution_count": 15,
     "metadata": {},
     "output_type": "execute_result"
    },
    {
     "data": {
      "image/png": "[encoded data removed]",
      "text/plain": [
       "<Figure size 432x288 with 1 Axes>"
      ]
     },
     "metadata": {
      "needs_background": "light"
     },
     "output_type": "display_data"
    }
   ],
   "source": [
    "plt.scatter(Combined_data.Restaurant_long,Combined_data.Restaurant_lat,label='Restaurant')\n",
    "plt.scatter(Firestation_data.longitude,Firestation_data.latitude,label='Fire station')\n",
    "plt.legend()\n",
    "plt.xlabel('Longitude')\n",
    "plt.ylabel('Latitude')\n",
    "plt.title('Geo-Location of Restaurants and Firestations')"
   ]
  },
  {
   "cell_type": "markdown",
   "metadata": {},
   "source": [
    "As it can be seen a bunch of restaurants are outside the area where fire-stations are present. We remove those from our analysis because they would unneccessarily biase the clustering."
   ]
  },
  {
   "cell_type": "code",
   "execution_count": 16,
   "metadata": {},
   "outputs": [],
   "source": [
    "Max_long=Firestation_data.longitude.max()\n",
    "Max_lat=Firestation_data.latitude.max()\n",
    "Min_long=Firestation_data.longitude.min()\n",
    "Min_lat=Firestation_data.latitude.min()"
   ]
  },
  {
   "cell_type": "markdown",
   "metadata": {},
   "source": [
    "Finding the min and max geo-coordinates for fire-stations and restricting the analysis to those restaurants only."
   ]
  },
  {
   "cell_type": "code",
   "execution_count": 17,
   "metadata": {},
   "outputs": [],
   "source": [
    "Combined_data_clipped=Combined_data[(Combined_data.Restaurant_long<Max_long)&\n",
    "                                    (Combined_data.Restaurant_long>Min_long)&\n",
    "                                     (Combined_data.Restaurant_lat<Max_lat)&\n",
    "                                    (Combined_data.Restaurant_lat>Min_lat)]"
   ]
  },
  {
   "cell_type": "code",
   "execution_count": 18,
   "metadata": {},
   "outputs": [
    {
     "data": {
      "text/plain": [
       "Text(0.5, 1.0, 'Geo-Location of Restaurants and Firestations (Boundary clipped)')"
      ]
     },
     "execution_count": 18,
     "metadata": {},
     "output_type": "execute_result"
    },
    {
     "data": {
      "image/png": "[encoded data removed]",
      "text/plain": [
       "<Figure size 432x288 with 1 Axes>"
      ]
     },
     "metadata": {
      "needs_background": "light"
     },
     "output_type": "display_data"
    }
   ],
   "source": [
    "plt.scatter(Combined_data_clipped.Restaurant_long,Combined_data_clipped.Restaurant_lat,label='Restaurant')\n",
    "plt.scatter(Firestation_data.longitude,Firestation_data.latitude,label='Fire station')\n",
    "plt.legend()\n",
    "plt.xlabel('Longitude')\n",
    "plt.ylabel('Latitude')\n",
    "plt.title('Geo-Location of Restaurants and Firestations (Boundary clipped)')"
   ]
  },
  {
   "cell_type": "markdown",
   "metadata": {},
   "source": [
    "## K-Mean Clustering"
   ]
  },
  {
   "cell_type": "markdown",
   "metadata": {},
   "source": [
    "We want to distribute the fire-stations into distinct clusters based on there geo-locations. We need to find the optimal number of clusters so that the fire-stations are evenly distributed in the clusters. For that we will try a few 'number of clusters' parameter values. For each value we will estimate the standard deviation of  the number of fire-stations in the clusters. Finally, we choose the model with lowest standard deviation. "
   ]
  },
  {
   "cell_type": "code",
   "execution_count": 19,
   "metadata": {},
   "outputs": [],
   "source": [
    "from sklearn.cluster import KMeans"
   ]
  },
  {
   "cell_type": "code",
   "execution_count": 20,
   "metadata": {},
   "outputs": [],
   "source": [
    "k_cluster_list=[5,6,7,8,9,10]"
   ]
  },
  {
   "cell_type": "code",
   "execution_count": 21,
   "metadata": {},
   "outputs": [],
   "source": [
    "cluster_diff=np.zeros((len(k_cluster_list),1))\n",
    "for i in range(len(k_cluster_list)):\n",
    "    # set number of clusters\n",
    "    kclusters = k_cluster_list[i]\n",
    "    firestation_geo = Firestation_data[['longitude','latitude']]\n",
    "    # run k-means clustering\n",
    "    kmeans = KMeans(n_clusters=kclusters, random_state=1)\n",
    "    firestation_clusters=kmeans.fit(firestation_geo)\n",
    "    cluster_diff[i]=pd.Series(firestation_clusters.labels_).value_counts().std()"
   ]
  },
  {
   "cell_type": "code",
   "execution_count": 22,
   "metadata": {},
   "outputs": [
    {
     "data": {
      "text/plain": [
       "Text(0.5, 1.0, 'Finding best K-Mean clustering Model')"
      ]
     },
     "execution_count": 22,
     "metadata": {},
     "output_type": "execute_result"
    },
    {
     "data": {
      "image/png": "[encoded data removed]",
      "text/plain": [
       "<Figure size 432x288 with 1 Axes>"
      ]
     },
     "metadata": {
      "needs_background": "light"
     },
     "output_type": "display_data"
    }
   ],
   "source": [
    "plt.plot(k_cluster_list,cluster_diff)\n",
    "plt.xlabel('Number of Clusters (k)')\n",
    "plt.ylabel('Standar deviation\\n Number of fire-stations in the clusters')\n",
    "plt.title('Finding best K-Mean clustering Model')"
   ]
  },
  {
   "cell_type": "markdown",
   "metadata": {},
   "source": [
    "**Lowest standard deviation is seen for k=8, thus we choose this value for the K-Mean clustering model**\n",
    "\n",
    "Next we train the model on the fire-station so that the fire-stations are divided into clusters based on their geo-location."
   ]
  },
  {
   "cell_type": "code",
   "execution_count": 23,
   "metadata": {},
   "outputs": [
    {
     "data": {
      "text/plain": [
       "array([2, 2, 7, 2, 7, 2, 2, 2, 7, 1, 2, 2, 5, 2, 2, 4, 4, 2, 2, 4, 3, 3,\n",
       "       3, 3, 3, 1, 3, 1, 1, 1, 1, 3, 7, 7, 3, 1, 7, 7, 7, 7, 7, 6, 6, 6,\n",
       "       6, 6, 1, 1, 1, 1, 6, 1, 6, 6, 6, 6, 6, 5, 5, 5, 6, 5, 6, 4, 4, 4,\n",
       "       4, 5, 5, 5, 5, 5, 5, 0, 0, 0, 0, 0, 4, 4, 0, 0, 0])"
      ]
     },
     "execution_count": 23,
     "metadata": {},
     "output_type": "execute_result"
    }
   ],
   "source": [
    "# set number of clusters\n",
    "kclusters = 8\n",
    "firestation_geo = Firestation_data[['longitude','latitude']]\n",
    "# run k-means clustering\n",
    "kmeans = KMeans(n_clusters=kclusters, random_state=1)\n",
    "firestation_clusters=kmeans.fit(firestation_geo)\n",
    "firestation_clusters.labels_"
   ]
  },
  {
   "cell_type": "markdown",
   "metadata": {},
   "source": [
    "The count of fire-stations in each cluster is given below"
   ]
  },
  {
   "cell_type": "code",
   "execution_count": 24,
   "metadata": {},
   "outputs": [
    {
     "data": {
      "text/html": [
       "<div>\n",
       "<style scoped>\n",
       "    .dataframe tbody tr th:only-of-type {\n",
       "        vertical-align: middle;\n",
       "    }\n",
       "\n",
       "    .dataframe tbody tr th {\n",
       "        vertical-align: top;\n",
       "    }\n",
       "\n",
       "    .dataframe thead th {\n",
       "        text-align: right;\n",
       "    }\n",
       "</style>\n",
       "<table border=\"1\" class=\"dataframe\">\n",
       "  <thead>\n",
       "    <tr style=\"text-align: right;\">\n",
       "      <th></th>\n",
       "      <th>Cluster label</th>\n",
       "      <th>Number of fire-stations</th>\n",
       "    </tr>\n",
       "  </thead>\n",
       "  <tbody>\n",
       "    <tr>\n",
       "      <th>0</th>\n",
       "      <td>6</td>\n",
       "      <td>13</td>\n",
       "    </tr>\n",
       "    <tr>\n",
       "      <th>1</th>\n",
       "      <td>2</td>\n",
       "      <td>12</td>\n",
       "    </tr>\n",
       "    <tr>\n",
       "      <th>2</th>\n",
       "      <td>1</td>\n",
       "      <td>12</td>\n",
       "    </tr>\n",
       "    <tr>\n",
       "      <th>3</th>\n",
       "      <td>5</td>\n",
       "      <td>11</td>\n",
       "    </tr>\n",
       "    <tr>\n",
       "      <th>4</th>\n",
       "      <td>7</td>\n",
       "      <td>10</td>\n",
       "    </tr>\n",
       "    <tr>\n",
       "      <th>5</th>\n",
       "      <td>4</td>\n",
       "      <td>9</td>\n",
       "    </tr>\n",
       "    <tr>\n",
       "      <th>6</th>\n",
       "      <td>3</td>\n",
       "      <td>8</td>\n",
       "    </tr>\n",
       "    <tr>\n",
       "      <th>7</th>\n",
       "      <td>0</td>\n",
       "      <td>8</td>\n",
       "    </tr>\n",
       "  </tbody>\n",
       "</table>\n",
       "</div>"
      ],
      "text/plain": [
       "   Cluster label  Number of fire-stations\n",
       "0              6                       13\n",
       "1              2                       12\n",
       "2              1                       12\n",
       "3              5                       11\n",
       "4              7                       10\n",
       "5              4                        9\n",
       "6              3                        8\n",
       "7              0                        8"
      ]
     },
     "execution_count": 24,
     "metadata": {},
     "output_type": "execute_result"
    }
   ],
   "source": [
    "Firestation_clusters_table=pd.DataFrame({'Cluster label':pd.Series(firestation_clusters.labels_).value_counts().keys(),\n",
    "            'Number of fire-stations':list(pd.Series(firestation_clusters.labels_).value_counts().values)})\n",
    "Firestation_clusters_table"
   ]
  },
  {
   "cell_type": "markdown",
   "metadata": {},
   "source": [
    "Next we fit the restaurants geo-location data on the fire-station K Mean cluster Model so that the restaurants are distributed according to the clusters of fire-stations. "
   ]
  },
  {
   "cell_type": "code",
   "execution_count": 25,
   "metadata": {},
   "outputs": [
    {
     "data": {
      "text/plain": [
       "array([3, 7, 7, ..., 4, 6, 6])"
      ]
     },
     "execution_count": 25,
     "metadata": {},
     "output_type": "execute_result"
    }
   ],
   "source": [
    "restaurant_geo=Combined_data_clipped[['Restaurant_long','Restaurant_lat']]\n",
    "restaurant_clusters=firestation_clusters.predict(restaurant_geo)\n",
    "\n",
    "# check cluster labels generated for each row in the dataframe\n",
    "restaurant_clusters"
   ]
  },
  {
   "cell_type": "markdown",
   "metadata": {},
   "source": [
    "**We look at the number of restaurants belonging to each cluster**"
   ]
  },
  {
   "cell_type": "code",
   "execution_count": 26,
   "metadata": {},
   "outputs": [
    {
     "data": {
      "text/html": [
       "<div>\n",
       "<style scoped>\n",
       "    .dataframe tbody tr th:only-of-type {\n",
       "        vertical-align: middle;\n",
       "    }\n",
       "\n",
       "    .dataframe tbody tr th {\n",
       "        vertical-align: top;\n",
       "    }\n",
       "\n",
       "    .dataframe thead th {\n",
       "        text-align: right;\n",
       "    }\n",
       "</style>\n",
       "<table border=\"1\" class=\"dataframe\">\n",
       "  <thead>\n",
       "    <tr style=\"text-align: right;\">\n",
       "      <th></th>\n",
       "      <th>Cluster label</th>\n",
       "      <th>Number of restaurants</th>\n",
       "    </tr>\n",
       "  </thead>\n",
       "  <tbody>\n",
       "    <tr>\n",
       "      <th>0</th>\n",
       "      <td>6</td>\n",
       "      <td>1768</td>\n",
       "    </tr>\n",
       "    <tr>\n",
       "      <th>1</th>\n",
       "      <td>7</td>\n",
       "      <td>555</td>\n",
       "    </tr>\n",
       "    <tr>\n",
       "      <th>2</th>\n",
       "      <td>2</td>\n",
       "      <td>202</td>\n",
       "    </tr>\n",
       "    <tr>\n",
       "      <th>3</th>\n",
       "      <td>1</td>\n",
       "      <td>167</td>\n",
       "    </tr>\n",
       "    <tr>\n",
       "      <th>4</th>\n",
       "      <td>5</td>\n",
       "      <td>76</td>\n",
       "    </tr>\n",
       "    <tr>\n",
       "      <th>5</th>\n",
       "      <td>4</td>\n",
       "      <td>61</td>\n",
       "    </tr>\n",
       "    <tr>\n",
       "      <th>6</th>\n",
       "      <td>3</td>\n",
       "      <td>39</td>\n",
       "    </tr>\n",
       "    <tr>\n",
       "      <th>7</th>\n",
       "      <td>0</td>\n",
       "      <td>17</td>\n",
       "    </tr>\n",
       "  </tbody>\n",
       "</table>\n",
       "</div>"
      ],
      "text/plain": [
       "   Cluster label  Number of restaurants\n",
       "0              6                   1768\n",
       "1              7                    555\n",
       "2              2                    202\n",
       "3              1                    167\n",
       "4              5                     76\n",
       "5              4                     61\n",
       "6              3                     39\n",
       "7              0                     17"
      ]
     },
     "execution_count": 26,
     "metadata": {},
     "output_type": "execute_result"
    }
   ],
   "source": [
    "Restaurant_clusters_table=pd.DataFrame({'Cluster label':pd.Series(restaurant_clusters).value_counts().keys(),\n",
    "                                 'Number of restaurants':list(pd.Series(restaurant_clusters).value_counts().values)})\n",
    "Restaurant_clusters_table"
   ]
  },
  {
   "cell_type": "markdown",
   "metadata": {},
   "source": [
    "**One thing that clearly stands out is that the cluster number 6 has a lot of restaurants under it's range.** Let's combine both clusters data and see how much is a per fire-station responsibility in each cluster."
   ]
  },
  {
   "cell_type": "code",
   "execution_count": 59,
   "metadata": {},
   "outputs": [
    {
     "data": {
      "text/html": [
       "<div>\n",
       "<style scoped>\n",
       "    .dataframe tbody tr th:only-of-type {\n",
       "        vertical-align: middle;\n",
       "    }\n",
       "\n",
       "    .dataframe tbody tr th {\n",
       "        vertical-align: top;\n",
       "    }\n",
       "\n",
       "    .dataframe thead th {\n",
       "        text-align: right;\n",
       "    }\n",
       "</style>\n",
       "<table border=\"1\" class=\"dataframe\">\n",
       "  <thead>\n",
       "    <tr style=\"text-align: right;\">\n",
       "      <th></th>\n",
       "      <th>Cluster label</th>\n",
       "      <th>Number of fire-stations</th>\n",
       "      <th>Number of restaurants</th>\n",
       "    </tr>\n",
       "  </thead>\n",
       "  <tbody>\n",
       "    <tr>\n",
       "      <th>0</th>\n",
       "      <td>6</td>\n",
       "      <td>13</td>\n",
       "      <td>1768</td>\n",
       "    </tr>\n",
       "    <tr>\n",
       "      <th>1</th>\n",
       "      <td>2</td>\n",
       "      <td>12</td>\n",
       "      <td>202</td>\n",
       "    </tr>\n",
       "    <tr>\n",
       "      <th>2</th>\n",
       "      <td>1</td>\n",
       "      <td>12</td>\n",
       "      <td>167</td>\n",
       "    </tr>\n",
       "    <tr>\n",
       "      <th>3</th>\n",
       "      <td>5</td>\n",
       "      <td>11</td>\n",
       "      <td>76</td>\n",
       "    </tr>\n",
       "    <tr>\n",
       "      <th>4</th>\n",
       "      <td>7</td>\n",
       "      <td>10</td>\n",
       "      <td>555</td>\n",
       "    </tr>\n",
       "    <tr>\n",
       "      <th>5</th>\n",
       "      <td>4</td>\n",
       "      <td>9</td>\n",
       "      <td>61</td>\n",
       "    </tr>\n",
       "    <tr>\n",
       "      <th>6</th>\n",
       "      <td>3</td>\n",
       "      <td>8</td>\n",
       "      <td>39</td>\n",
       "    </tr>\n",
       "    <tr>\n",
       "      <th>7</th>\n",
       "      <td>0</td>\n",
       "      <td>8</td>\n",
       "      <td>17</td>\n",
       "    </tr>\n",
       "  </tbody>\n",
       "</table>\n",
       "</div>"
      ],
      "text/plain": [
       "   Cluster label  Number of fire-stations  Number of restaurants\n",
       "0              6                       13                   1768\n",
       "1              2                       12                    202\n",
       "2              1                       12                    167\n",
       "3              5                       11                     76\n",
       "4              7                       10                    555\n",
       "5              4                        9                     61\n",
       "6              3                        8                     39\n",
       "7              0                        8                     17"
      ]
     },
     "execution_count": 59,
     "metadata": {},
     "output_type": "execute_result"
    }
   ],
   "source": [
    "Combined_cluster_table=Firestation_clusters_table.merge(Restaurant_clusters_table,on='Cluster label')\n",
    "Combined_cluster_table"
   ]
  },
  {
   "cell_type": "code",
   "execution_count": 67,
   "metadata": {},
   "outputs": [
    {
     "data": {
      "text/html": [
       "<div>\n",
       "<style scoped>\n",
       "    .dataframe tbody tr th:only-of-type {\n",
       "        vertical-align: middle;\n",
       "    }\n",
       "\n",
       "    .dataframe tbody tr th {\n",
       "        vertical-align: top;\n",
       "    }\n",
       "\n",
       "    .dataframe thead th {\n",
       "        text-align: right;\n",
       "    }\n",
       "</style>\n",
       "<table border=\"1\" class=\"dataframe\">\n",
       "  <thead>\n",
       "    <tr style=\"text-align: right;\">\n",
       "      <th></th>\n",
       "      <th>Number of fire-stations</th>\n",
       "      <th>Number of restaurants</th>\n",
       "      <th>Restaurants per Fire-station</th>\n",
       "    </tr>\n",
       "    <tr>\n",
       "      <th>Cluster label</th>\n",
       "      <th></th>\n",
       "      <th></th>\n",
       "      <th></th>\n",
       "    </tr>\n",
       "  </thead>\n",
       "  <tbody>\n",
       "    <tr>\n",
       "      <th>0</th>\n",
       "      <td>8</td>\n",
       "      <td>17</td>\n",
       "      <td>2.125000</td>\n",
       "    </tr>\n",
       "    <tr>\n",
       "      <th>1</th>\n",
       "      <td>12</td>\n",
       "      <td>167</td>\n",
       "      <td>13.916667</td>\n",
       "    </tr>\n",
       "    <tr>\n",
       "      <th>2</th>\n",
       "      <td>12</td>\n",
       "      <td>202</td>\n",
       "      <td>16.833333</td>\n",
       "    </tr>\n",
       "    <tr>\n",
       "      <th>3</th>\n",
       "      <td>8</td>\n",
       "      <td>39</td>\n",
       "      <td>4.875000</td>\n",
       "    </tr>\n",
       "    <tr>\n",
       "      <th>4</th>\n",
       "      <td>9</td>\n",
       "      <td>61</td>\n",
       "      <td>6.777778</td>\n",
       "    </tr>\n",
       "    <tr>\n",
       "      <th>5</th>\n",
       "      <td>11</td>\n",
       "      <td>76</td>\n",
       "      <td>6.909091</td>\n",
       "    </tr>\n",
       "    <tr>\n",
       "      <th>6</th>\n",
       "      <td>13</td>\n",
       "      <td>1768</td>\n",
       "      <td>136.000000</td>\n",
       "    </tr>\n",
       "    <tr>\n",
       "      <th>7</th>\n",
       "      <td>10</td>\n",
       "      <td>555</td>\n",
       "      <td>55.500000</td>\n",
       "    </tr>\n",
       "  </tbody>\n",
       "</table>\n",
       "</div>"
      ],
      "text/plain": [
       "               Number of fire-stations  Number of restaurants  \\\n",
       "Cluster label                                                   \n",
       "0                                    8                     17   \n",
       "1                                   12                    167   \n",
       "2                                   12                    202   \n",
       "3                                    8                     39   \n",
       "4                                    9                     61   \n",
       "5                                   11                     76   \n",
       "6                                   13                   1768   \n",
       "7                                   10                    555   \n",
       "\n",
       "               Restaurants per Fire-station  \n",
       "Cluster label                                \n",
       "0                                  2.125000  \n",
       "1                                 13.916667  \n",
       "2                                 16.833333  \n",
       "3                                  4.875000  \n",
       "4                                  6.777778  \n",
       "5                                  6.909091  \n",
       "6                                136.000000  \n",
       "7                                 55.500000  "
      ]
     },
     "execution_count": 67,
     "metadata": {},
     "output_type": "execute_result"
    }
   ],
   "source": [
    "Combined_cluster_table['Restaurants per Fire-station']=Combined_cluster_table['Number of restaurants']/Combined_cluster_table['Number of fire-stations']\n",
    "Combined_cluster_table.sort_values('Cluster label', axis=0, ascending=True, inplace=True)\n",
    "Combined_cluster_table.set_index('Cluster label',inplace=True)\n",
    "Combined_cluster_table"
   ]
  },
  {
   "cell_type": "markdown",
   "metadata": {},
   "source": [
    "## Visualization of the results\n",
    "We show the number of fire-stations, number of restaurants and restaurants per fire-station for each cluster label in following barplots. "
   ]
  },
  {
   "cell_type": "code",
   "execution_count": 84,
   "metadata": {
    "scrolled": true
   },
   "outputs": [
    {
     "data": {
      "text/plain": [
       "Text(0.5, 0.98, 'Distribution among clusters')"
      ]
     },
     "execution_count": 84,
     "metadata": {},
     "output_type": "execute_result"
    },
    {
     "data": {
      "image/png": "[encoded data removed]",
      "text/plain": [
       "<Figure size 1296x360 with 3 Axes>"
      ]
     },
     "metadata": {
      "needs_background": "light"
     },
     "output_type": "display_data"
    }
   ],
   "source": [
    "fig, ax=plt.subplots(ncols=3,figsize=(18,5))\n",
    "Combined_cluster_table['Number of fire-stations'].plot(kind='bar', width=0.8,ax=ax[0])\n",
    "Combined_cluster_table['Number of restaurants'].plot(kind='bar', width=0.8,ax=ax[1])\n",
    "Combined_cluster_table['Restaurants per Fire-station'].plot(kind='bar', width=0.8,ax=ax[2])\n",
    "ax[0].set_ylabel('Number of Fire-stations')\n",
    "ax[1].set_ylabel('Number of Restaurants')\n",
    "ax[2].set_ylabel('Number of Restaurants per Fire-station')\n",
    "fig.suptitle('Distribution among clusters')"
   ]
  },
  {
   "cell_type": "markdown",
   "metadata": {},
   "source": [
    "**From our analysis we can clearly see that Fire-stations in cluster 6 and 7 have a much larger number of restaurants under them.**"
   ]
  },
  {
   "cell_type": "markdown",
   "metadata": {},
   "source": [
    "## Next we get the cluster labels into the dataframe of fire-stations and restaurants"
   ]
  },
  {
   "cell_type": "code",
   "execution_count": 29,
   "metadata": {},
   "outputs": [],
   "source": [
    "Firestation_data.insert(0, 'Cluster Labels', firestation_clusters.labels_)\n",
    "Combined_data_clipped.insert(0, 'Cluster Labels', restaurant_clusters)"
   ]
  },
  {
   "cell_type": "code",
   "execution_count": 30,
   "metadata": {},
   "outputs": [
    {
     "data": {
      "text/html": [
       "<div>\n",
       "<style scoped>\n",
       "    .dataframe tbody tr th:only-of-type {\n",
       "        vertical-align: middle;\n",
       "    }\n",
       "\n",
       "    .dataframe tbody tr th {\n",
       "        vertical-align: top;\n",
       "    }\n",
       "\n",
       "    .dataframe thead th {\n",
       "        text-align: right;\n",
       "    }\n",
       "</style>\n",
       "<table border=\"1\" class=\"dataframe\">\n",
       "  <thead>\n",
       "    <tr style=\"text-align: right;\">\n",
       "      <th></th>\n",
       "      <th>Cluster Labels</th>\n",
       "      <th>Fire_station_#</th>\n",
       "      <th>x_6degree_UTM_coordinate</th>\n",
       "      <th>y_6degree_UTM_coordinate</th>\n",
       "      <th>longitude</th>\n",
       "      <th>latitude</th>\n",
       "    </tr>\n",
       "  </thead>\n",
       "  <tbody>\n",
       "    <tr>\n",
       "      <th>0</th>\n",
       "      <td>2</td>\n",
       "      <td>111</td>\n",
       "      <td>629254.562</td>\n",
       "      <td>4849606.500</td>\n",
       "      <td>-79.393539</td>\n",
       "      <td>43.788230</td>\n",
       "    </tr>\n",
       "    <tr>\n",
       "      <th>1</th>\n",
       "      <td>2</td>\n",
       "      <td>112</td>\n",
       "      <td>625241.895</td>\n",
       "      <td>4847922.113</td>\n",
       "      <td>-79.443786</td>\n",
       "      <td>43.773759</td>\n",
       "    </tr>\n",
       "    <tr>\n",
       "      <th>2</th>\n",
       "      <td>7</td>\n",
       "      <td>113</td>\n",
       "      <td>632675.000</td>\n",
       "      <td>4849871.000</td>\n",
       "      <td>-79.350979</td>\n",
       "      <td>43.790005</td>\n",
       "    </tr>\n",
       "    <tr>\n",
       "      <th>3</th>\n",
       "      <td>2</td>\n",
       "      <td>114</td>\n",
       "      <td>627526.500</td>\n",
       "      <td>4847651.500</td>\n",
       "      <td>-79.415473</td>\n",
       "      <td>43.770934</td>\n",
       "    </tr>\n",
       "    <tr>\n",
       "      <th>4</th>\n",
       "      <td>7</td>\n",
       "      <td>115</td>\n",
       "      <td>633496.245</td>\n",
       "      <td>4847881.079</td>\n",
       "      <td>-79.341271</td>\n",
       "      <td>43.771948</td>\n",
       "    </tr>\n",
       "  </tbody>\n",
       "</table>\n",
       "</div>"
      ],
      "text/plain": [
       "   Cluster Labels  Fire_station_#  x_6degree_UTM_coordinate  \\\n",
       "0               2             111                629254.562   \n",
       "1               2             112                625241.895   \n",
       "2               7             113                632675.000   \n",
       "3               2             114                627526.500   \n",
       "4               7             115                633496.245   \n",
       "\n",
       "   y_6degree_UTM_coordinate  longitude   latitude  \n",
       "0               4849606.500 -79.393539  43.788230  \n",
       "1               4847922.113 -79.443786  43.773759  \n",
       "2               4849871.000 -79.350979  43.790005  \n",
       "3               4847651.500 -79.415473  43.770934  \n",
       "4               4847881.079 -79.341271  43.771948  "
      ]
     },
     "execution_count": 30,
     "metadata": {},
     "output_type": "execute_result"
    }
   ],
   "source": [
    "Firestation_data.head()"
   ]
  },
  {
   "cell_type": "code",
   "execution_count": 31,
   "metadata": {},
   "outputs": [
    {
     "data": {
      "text/html": [
       "<div>\n",
       "<style scoped>\n",
       "    .dataframe tbody tr th:only-of-type {\n",
       "        vertical-align: middle;\n",
       "    }\n",
       "\n",
       "    .dataframe tbody tr th {\n",
       "        vertical-align: top;\n",
       "    }\n",
       "\n",
       "    .dataframe thead th {\n",
       "        text-align: right;\n",
       "    }\n",
       "</style>\n",
       "<table border=\"1\" class=\"dataframe\">\n",
       "  <thead>\n",
       "    <tr style=\"text-align: right;\">\n",
       "      <th></th>\n",
       "      <th>Cluster Labels</th>\n",
       "      <th>Neighborhood</th>\n",
       "      <th>Neighborhood_lat</th>\n",
       "      <th>Neighborhood_long</th>\n",
       "      <th>Restaurant</th>\n",
       "      <th>Restaurant_lat</th>\n",
       "      <th>Restaurant_long</th>\n",
       "      <th>PostalCode</th>\n",
       "      <th>Borough</th>\n",
       "    </tr>\n",
       "  </thead>\n",
       "  <tbody>\n",
       "    <tr>\n",
       "      <th>0</th>\n",
       "      <td>3</td>\n",
       "      <td>Malvern, Rouge</td>\n",
       "      <td>43.806686</td>\n",
       "      <td>-79.194353</td>\n",
       "      <td>Ted's Restaurant</td>\n",
       "      <td>43.784468</td>\n",
       "      <td>-79.169200</td>\n",
       "      <td>M1B</td>\n",
       "      <td>Scarborough</td>\n",
       "    </tr>\n",
       "    <tr>\n",
       "      <th>1</th>\n",
       "      <td>7</td>\n",
       "      <td>Malvern, Rouge</td>\n",
       "      <td>43.806686</td>\n",
       "      <td>-79.194353</td>\n",
       "      <td>Perfect Chinese Restaurant 雅瓊海鮮酒家</td>\n",
       "      <td>43.787774</td>\n",
       "      <td>-79.270294</td>\n",
       "      <td>M1B</td>\n",
       "      <td>Scarborough</td>\n",
       "    </tr>\n",
       "    <tr>\n",
       "      <th>3</th>\n",
       "      <td>7</td>\n",
       "      <td>Malvern, Rouge</td>\n",
       "      <td>43.806686</td>\n",
       "      <td>-79.194353</td>\n",
       "      <td>東海漁村 Tasty BBQ Seafood Restaurant (Tasty BBQ S...</td>\n",
       "      <td>43.794425</td>\n",
       "      <td>-79.353300</td>\n",
       "      <td>M1B</td>\n",
       "      <td>Scarborough</td>\n",
       "    </tr>\n",
       "    <tr>\n",
       "      <th>5</th>\n",
       "      <td>7</td>\n",
       "      <td>Malvern, Rouge</td>\n",
       "      <td>43.806686</td>\n",
       "      <td>-79.194353</td>\n",
       "      <td>Inware Restaurant Equipment and Supplies 宏鑫餐具</td>\n",
       "      <td>43.804130</td>\n",
       "      <td>-79.296060</td>\n",
       "      <td>M1B</td>\n",
       "      <td>Scarborough</td>\n",
       "    </tr>\n",
       "    <tr>\n",
       "      <th>8</th>\n",
       "      <td>7</td>\n",
       "      <td>Malvern, Rouge</td>\n",
       "      <td>43.806686</td>\n",
       "      <td>-79.194353</td>\n",
       "      <td>Fortune House Restaurant 富記</td>\n",
       "      <td>43.790025</td>\n",
       "      <td>-79.302509</td>\n",
       "      <td>M1B</td>\n",
       "      <td>Scarborough</td>\n",
       "    </tr>\n",
       "  </tbody>\n",
       "</table>\n",
       "</div>"
      ],
      "text/plain": [
       "   Cluster Labels    Neighborhood  Neighborhood_lat  Neighborhood_long  \\\n",
       "0               3  Malvern, Rouge         43.806686         -79.194353   \n",
       "1               7  Malvern, Rouge         43.806686         -79.194353   \n",
       "3               7  Malvern, Rouge         43.806686         -79.194353   \n",
       "5               7  Malvern, Rouge         43.806686         -79.194353   \n",
       "8               7  Malvern, Rouge         43.806686         -79.194353   \n",
       "\n",
       "                                          Restaurant  Restaurant_lat  \\\n",
       "0                                   Ted's Restaurant       43.784468   \n",
       "1                  Perfect Chinese Restaurant 雅瓊海鮮酒家       43.787774   \n",
       "3  東海漁村 Tasty BBQ Seafood Restaurant (Tasty BBQ S...       43.794425   \n",
       "5      Inware Restaurant Equipment and Supplies 宏鑫餐具       43.804130   \n",
       "8                        Fortune House Restaurant 富記       43.790025   \n",
       "\n",
       "   Restaurant_long PostalCode      Borough  \n",
       "0       -79.169200        M1B  Scarborough  \n",
       "1       -79.270294        M1B  Scarborough  \n",
       "3       -79.353300        M1B  Scarborough  \n",
       "5       -79.296060        M1B  Scarborough  \n",
       "8       -79.302509        M1B  Scarborough  "
      ]
     },
     "execution_count": 31,
     "metadata": {},
     "output_type": "execute_result"
    }
   ],
   "source": [
    "Combined_data_clipped.head()"
   ]
  },
  {
   "cell_type": "markdown",
   "metadata": {},
   "source": [
    "Finally, let's visualize the clusters and see which locations have the clusters with the most restaurant per fire-stations. So, that the city of Toronto might use this information in city planning."
   ]
  },
  {
   "cell_type": "code",
   "execution_count": 32,
   "metadata": {},
   "outputs": [],
   "source": [
    "import folium\n",
    "import matplotlib.cm as cm\n",
    "import matplotlib.colors as colors"
   ]
  },
  {
   "cell_type": "markdown",
   "metadata": {},
   "source": [
    "**First, we show the clusters of fire-stations on the map of Toronto.**"
   ]
  },
  {
   "cell_type": "code",
   "execution_count": 102,
   "metadata": {
    "scrolled": false
   },
   "outputs": [
    {
     "data": {
      "text/html": [
       "<div style=\"width:100%;\"><div style=\"position:relative;width:100%;height:0;padding-bottom:60%;\"><iframe src=\"data:text/html;charset=utf-8;base64,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\" style=\"position:absolute;width:100%;height:100%;left:0;top:0;border:none !important;\" allowfullscreen webkitallowfullscreen mozallowfullscreen></iframe></div></div>"
      ],
      "text/plain": [
       "<folium.folium.Map at 0x2575e4f17b8>"
      ]
     },
     "execution_count": 102,
     "metadata": {},
     "output_type": "execute_result"
    }
   ],
   "source": [
    "toronto_lat=43.7\n",
    "toronto_long=-79.3832\n",
    "# create map of toronto using latitude and longitude values\n",
    "map_toronto = folium.Map(location=[toronto_lat, toronto_long], zoom_start=10.5)\n",
    "\n",
    "colors_array = cm.rainbow(np.linspace(0, 1, kclusters))\n",
    "rainbow = [colors.rgb2hex(i) for i in colors_array]\n",
    "\n",
    "# # add markers to map\n",
    "for lat, lng, fire_station, cluster in zip(Firestation_data['latitude'], Firestation_data['longitude'],\n",
    "                                           Firestation_data['Fire_station_#'],Firestation_data['Cluster Labels']):\n",
    "    label = 'Fire Station # {}, Cluster # {}'.format(fire_station,cluster)\n",
    "    label = folium.Popup(label, parse_html=True)\n",
    "    folium.CircleMarker(\n",
    "      [lat, lng],\n",
    "      radius=5,\n",
    "      popup=label,\n",
    "      color=rainbow[cluster],\n",
    "      fill=True,\n",
    "      fill_color=rainbow[cluster],\n",
    "      fill_opacity=1,\n",
    "      parse_html=False).add_to(map_toronto)  \n",
    "    \n",
    "map_toronto"
   ]
  },
  {
   "cell_type": "markdown",
   "metadata": {},
   "source": [
    "**The Boroughs and number of restaurants in those boroughs in the critical clusters with highest Restaurant to fire-stations ratio**\n",
    "\n",
    "Starting with Cluster label 6 which has 136 restaurants per fire-station."
   ]
  },
  {
   "cell_type": "code",
   "execution_count": 34,
   "metadata": {},
   "outputs": [],
   "source": [
    "Critical_cluster1=Combined_data_clipped[Combined_data_clipped['Cluster Labels']==6]"
   ]
  },
  {
   "cell_type": "code",
   "execution_count": 35,
   "metadata": {},
   "outputs": [
    {
     "data": {
      "text/plain": [
       "Downtown Toronto    533\n",
       "North York          256\n",
       "Etobicoke           233\n",
       "Central Toronto     210\n",
       "West Toronto        146\n",
       "York                116\n",
       "East Toronto         92\n",
       "East York            72\n",
       "Scarborough          66\n",
       "Queen's Park         30\n",
       "Mississauga          14\n",
       "Name: Borough, dtype: int64"
      ]
     },
     "execution_count": 35,
     "metadata": {},
     "output_type": "execute_result"
    }
   ],
   "source": [
    "Critical_cluster1.Borough.value_counts()"
   ]
  },
  {
   "cell_type": "markdown",
   "metadata": {},
   "source": [
    "Most of these restaurants are in Downtown Toronto as expected in any big metropolis. But along with that in Bouroughs like North York, Etobicoke and Central Toronto.\n",
    "\n",
    "**Next Cluster Label 7 which has about 55 restaurants per fire-stations.**"
   ]
  },
  {
   "cell_type": "code",
   "execution_count": 36,
   "metadata": {},
   "outputs": [],
   "source": [
    "Critical_cluster2=Combined_data_clipped[Combined_data_clipped['Cluster Labels']==7]"
   ]
  },
  {
   "cell_type": "code",
   "execution_count": 37,
   "metadata": {},
   "outputs": [
    {
     "data": {
      "text/plain": [
       "Scarborough        300\n",
       "North York         192\n",
       "East York           22\n",
       "Central Toronto     17\n",
       "Etobicoke           10\n",
       "York                 7\n",
       "East Toronto         7\n",
       "Name: Borough, dtype: int64"
      ]
     },
     "execution_count": 37,
     "metadata": {},
     "output_type": "execute_result"
    }
   ],
   "source": [
    "Critical_cluster2.Borough.value_counts()"
   ]
  },
  {
   "cell_type": "markdown",
   "metadata": {},
   "source": [
    "In this cluster the Borough of Scarborough and North York has the highest Number of restaurants."
   ]
  },
  {
   "cell_type": "markdown",
   "metadata": {},
   "source": [
    "## Finally, let's visualize the clusters of fire-stations and restaurants together. \n",
    "Since the number of data-points for restaurants is very high so the folium maps was not able to visualize them, so we resorted to **scatter plot of geo-coordinates**, that also serves the purpose."
   ]
  },
  {
   "cell_type": "code",
   "execution_count": 38,
   "metadata": {},
   "outputs": [
    {
     "data": {
      "image/png": "[encoded data removed]",
      "text/plain": [
       "<Figure size 864x720 with 1 Axes>"
      ]
     },
     "metadata": {
      "needs_background": "light"
     },
     "output_type": "display_data"
    }
   ],
   "source": [
    "plt.figure(figsize=(12,10))\n",
    "\n",
    "colors_array = cm.rainbow(np.linspace(0, 1, kclusters))\n",
    "rainbow = [colors.rgb2hex(i) for i in colors_array]\n",
    "for k in range(kclusters):\n",
    "    imask=Combined_data_clipped['Cluster Labels']==k\n",
    "    imask1=Firestation_data['Cluster Labels']==k\n",
    "    x1=Firestation_data.longitude[imask1]\n",
    "    y1=Firestation_data.latitude[imask1]\n",
    "    x=Combined_data_clipped.Restaurant_long[imask]\n",
    "    y=Combined_data_clipped.Restaurant_lat[imask]\n",
    "    plt.scatter(x,y,color=rainbow[k],marker='+',label='label: '+str(k))\n",
    "    plt.scatter(x1,y1,color=rainbow[k],marker='*',label='label '+str(k))\n",
    "plt.legend(loc=4)\n",
    "plt.xlabel('Longitude')\n",
    "plt.ylabel('Latitude')\n",
    "plt.title('Geographical Clusters of Restaurants and Firestations\\n\\\n",
    "           Restaurant clusters shown in + and Firestation cluster in *')\n",
    "plt.rc('font',size=12)"
   ]
  },
  {
   "cell_type": "markdown",
   "metadata": {},
   "source": [
    "# Conclusion\n",
    "From our analysis of clustering the fire-stations and restaurants we found one aspect of city planning that the city of Toronto keep in mind to prepare for fire accidents that might occur in restaurants. The restaurants handle fire in day-to-day business, so the fire-stations that are closest to them should be in proportion to restaurants in the area. We identified clusters where the ratio of restaurants to fire-stations was highly skewed. So, the city of Toronto needs to pay attention to this fact, either by increasing fire-stations in those areas or upscaling the ones already there. The most critical Boroughs under which these clusters lies are Downtown Toronto , North York and Scarborough "
   ]
  }
 ],
 "metadata": {
  "kernelspec": {
   "display_name": "Python 3",
   "language": "python",
   "name": "python3"
  },
  "language_info": {
   "codemirror_mode": {
    "name": "ipython",
    "version": 3
   },
   "file_extension": ".py",
   "mimetype": "text/x-python",
   "name": "python",
   "nbconvert_exporter": "python",
   "pygments_lexer": "ipython3",
   "version": "3.7.1"
  }
 },
 "nbformat": 4,
 "nbformat_minor": 2
}
