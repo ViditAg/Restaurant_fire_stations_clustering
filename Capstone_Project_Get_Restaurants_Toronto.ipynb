{
 "cells": [
  {
   "cell_type": "markdown",
   "metadata": {},
   "source": [
    "# Get Restaurants in different neighborhoods in Toronto\n",
    "\n",
    "We are going to obtain restaurants name and geo-coordinates that are present in different neighborhoods of Toronto. To achieve this we get this data from Foursquare API. (https://foursquare.com/)\n",
    "\n",
    "1. Read in the dataframe that contains neighborhoods and there geo-coordinates.\n",
    "2. Based on the geo-coordinates of the neighborhood, get the restaurant data for each neighborhood.\n",
    "3. Read the restaurant and their geo-coordinate data along with the neighborhoods into a dataframe.\n",
    "\n",
    "Please use this link to open the Jupyter notebook to see the maps:\n",
    "\n",
    "https://nbviewer.jupyter.org/"
   ]
  },
  {
   "cell_type": "markdown",
   "metadata": {},
   "source": [
    "Import neccessary libraries."
   ]
  },
  {
   "cell_type": "code",
   "execution_count": 1,
   "metadata": {},
   "outputs": [],
   "source": [
    "import numpy as np\n",
    "import pandas as pd\n",
    "import requests\n",
    "import folium"
   ]
  },
  {
   "cell_type": "markdown",
   "metadata": {},
   "source": [
    "**Read the neighborhood dataframe from data collected earlier.**"
   ]
  },
  {
   "cell_type": "code",
   "execution_count": 2,
   "metadata": {},
   "outputs": [],
   "source": [
    "Toronto_data=pd.read_csv('Neighborhoods_Toronto.csv')"
   ]
  },
  {
   "cell_type": "code",
   "execution_count": 3,
   "metadata": {},
   "outputs": [
    {
     "data": {
      "text/html": [
       "<div>\n",
       "<style scoped>\n",
       "    .dataframe tbody tr th:only-of-type {\n",
       "        vertical-align: middle;\n",
       "    }\n",
       "\n",
       "    .dataframe tbody tr th {\n",
       "        vertical-align: top;\n",
       "    }\n",
       "\n",
       "    .dataframe thead th {\n",
       "        text-align: right;\n",
       "    }\n",
       "</style>\n",
       "<table border=\"1\" class=\"dataframe\">\n",
       "  <thead>\n",
       "    <tr style=\"text-align: right;\">\n",
       "      <th></th>\n",
       "      <th>PostalCode</th>\n",
       "      <th>Borough</th>\n",
       "      <th>Neighborhood</th>\n",
       "      <th>Latitude</th>\n",
       "      <th>Longitude</th>\n",
       "    </tr>\n",
       "  </thead>\n",
       "  <tbody>\n",
       "    <tr>\n",
       "      <th>0</th>\n",
       "      <td>M1B</td>\n",
       "      <td>Scarborough</td>\n",
       "      <td>Malvern, Rouge</td>\n",
       "      <td>43.806686</td>\n",
       "      <td>-79.194353</td>\n",
       "    </tr>\n",
       "    <tr>\n",
       "      <th>1</th>\n",
       "      <td>M1C</td>\n",
       "      <td>Scarborough</td>\n",
       "      <td>Highland Creek, Port Union, Rouge Hill</td>\n",
       "      <td>43.784535</td>\n",
       "      <td>-79.160497</td>\n",
       "    </tr>\n",
       "    <tr>\n",
       "      <th>2</th>\n",
       "      <td>M1E</td>\n",
       "      <td>Scarborough</td>\n",
       "      <td>Guildwood, Morningside, West Hill</td>\n",
       "      <td>43.763573</td>\n",
       "      <td>-79.188711</td>\n",
       "    </tr>\n",
       "    <tr>\n",
       "      <th>3</th>\n",
       "      <td>M1G</td>\n",
       "      <td>Scarborough</td>\n",
       "      <td>Woburn</td>\n",
       "      <td>43.770992</td>\n",
       "      <td>-79.216917</td>\n",
       "    </tr>\n",
       "    <tr>\n",
       "      <th>4</th>\n",
       "      <td>M1H</td>\n",
       "      <td>Scarborough</td>\n",
       "      <td>Cedarbrae</td>\n",
       "      <td>43.773136</td>\n",
       "      <td>-79.239476</td>\n",
       "    </tr>\n",
       "  </tbody>\n",
       "</table>\n",
       "</div>"
      ],
      "text/plain": [
       "  PostalCode      Borough                            Neighborhood   Latitude  \\\n",
       "0        M1B  Scarborough                          Malvern, Rouge  43.806686   \n",
       "1        M1C  Scarborough  Highland Creek, Port Union, Rouge Hill  43.784535   \n",
       "2        M1E  Scarborough       Guildwood, Morningside, West Hill  43.763573   \n",
       "3        M1G  Scarborough                                  Woburn  43.770992   \n",
       "4        M1H  Scarborough                               Cedarbrae  43.773136   \n",
       "\n",
       "   Longitude  \n",
       "0 -79.194353  \n",
       "1 -79.160497  \n",
       "2 -79.188711  \n",
       "3 -79.216917  \n",
       "4 -79.239476  "
      ]
     },
     "execution_count": 3,
     "metadata": {},
     "output_type": "execute_result"
    }
   ],
   "source": [
    "Toronto_data.head()"
   ]
  },
  {
   "cell_type": "code",
   "execution_count": 4,
   "metadata": {},
   "outputs": [
    {
     "name": "stdout",
     "output_type": "stream",
     "text": [
      "Number of rows 103\n"
     ]
    }
   ],
   "source": [
    "print('Number of rows',Toronto_data.shape[0])"
   ]
  },
  {
   "cell_type": "markdown",
   "metadata": {},
   "source": [
    "## Getting data from foursquare API"
   ]
  },
  {
   "cell_type": "markdown",
   "metadata": {},
   "source": [
    "Setting the credentials for foursquare API app that was created earlier using foursquare developer account at https://foursquare.com/developers/apps"
   ]
  },
  {
   "cell_type": "code",
   "execution_count": 5,
   "metadata": {},
   "outputs": [
    {
     "name": "stdout",
     "output_type": "stream",
     "text": [
      "Your credentails:\n",
      "CLIENT_ID: J1HNQG2BTTUH5JXPZLFL0NRNEGY5UFE3JIZCBJO3XESMYNWQ\n",
      "CLIENT_SECRET:1LIFVE0DGY2M431JARDDM4WHABK1FP2O0LWDQW1HQFZL11FF\n"
     ]
    }
   ],
   "source": [
    "# content removed for privacy\n",
    "CLIENT_ID = '' # your Foursquare ID\n",
    "CLIENT_SECRET = '' # your Foursquare Secret\n",
    "VERSION = '20180605' # Foursquare API version\n",
    "\n",
    "print('Your credentails:')\n",
    "print('CLIENT_ID: ' + CLIENT_ID)\n",
    "print('CLIENT_SECRET:' + CLIENT_SECRET)"
   ]
  },
  {
   "cell_type": "markdown",
   "metadata": {},
   "source": [
    "**Let's create a function to access the foursquare API and search for restaurants in neighborhoods of Toronto based on the geo-coordinates.**"
   ]
  },
  {
   "cell_type": "code",
   "execution_count": 6,
   "metadata": {},
   "outputs": [],
   "source": [
    "def getNearbyVenues(names, latitudes, longitudes, radius=500):\n",
    "    \n",
    "    food_venues_list=[]\n",
    "    for name, lat, lng in zip(names, latitudes, longitudes):\n",
    "        print(name)\n",
    "        # create the API request URL\n",
    "        url = 'https://api.foursquare.com/v2/venues/search?&client_id={}&client_secret={}&v={}&ll={},{}&query=Restaurant'.format(\n",
    "            CLIENT_ID, \n",
    "            CLIENT_SECRET, \n",
    "            VERSION, \n",
    "            lat, \n",
    "            lng)\n",
    "            \n",
    "        # make the GET request\n",
    "        results = requests.get(url).json()['response']['venues']#[0]['items']\n",
    "# #         # return only relevant information for each nearby venue\n",
    "        food_venues_list.append([(\n",
    "              name, \n",
    "              lat, \n",
    "              lng, \n",
    "              v['name'], \n",
    "              v['location']['lat'], \n",
    "              v['location']['lng']) for v in results])\n",
    "    nearby_venues = pd.DataFrame([item for venue_list in food_venues_list for item in venue_list])\n",
    "    return (nearby_venues)"
   ]
  },
  {
   "cell_type": "markdown",
   "metadata": {},
   "source": [
    "Let's run the above function."
   ]
  },
  {
   "cell_type": "code",
   "execution_count": 7,
   "metadata": {},
   "outputs": [
    {
     "name": "stdout",
     "output_type": "stream",
     "text": [
      "Malvern, Rouge\n",
      "Highland Creek, Port Union, Rouge Hill\n",
      "Guildwood, Morningside, West Hill\n",
      "Woburn\n",
      "Cedarbrae\n",
      "Scarborough Village\n",
      "East Birchmount Park, Ionview, Kennedy Park\n",
      "Clairlea, Golden Mile, Oakridge\n",
      "Cliffcrest, Cliffside, Scarborough Village West\n",
      "Birch Cliff, Cliffside West\n",
      "Dorset Park, Scarborough Town Centre, Wexford Heights\n",
      "Maryvale, Wexford\n",
      "Agincourt\n",
      "Clarks Corners, Sullivan, Tam O'Shanter\n",
      "Agincourt North, L'Amoreaux East, Milliken, Steeles East\n",
      "L'Amoreaux West\n",
      "Upper Rouge\n",
      "Hillcrest Village\n",
      "Fairview, Henry Farm, Oriole\n",
      "Bayview Village\n",
      "Silver Hills, York Mills\n",
      "Newtonbrook, Willowdale\n",
      "Willowdale South\n",
      "York Mills West\n",
      "Willowdale West\n",
      "Parkwoods\n",
      "Don Mills North\n",
      "Don Mills South, Flemingdon Park\n",
      "Bathurst Manor, Downsview North, Wilson Heights\n",
      "Northwood Park, York University\n",
      "CFB Toronto, Downsview East\n",
      "Downsview West\n",
      "Downsview Central\n",
      "Downsview Northwest\n",
      "Victoria Village\n",
      "Parkview Hill, Woodbine Gardens\n",
      "Woodbine Heights\n",
      "The Beaches\n",
      "Leaside\n",
      "Thorncliffe Park\n",
      "East Toronto\n",
      "Riverdale, The Danforth West\n",
      "India Bazaar, The Beaches West\n",
      "Studio District\n",
      "Lawrence Park\n",
      "Davisville North\n",
      "North Toronto West\n",
      "Davisville\n",
      "Moore Park, Summerhill East\n",
      "Deer Park, Forest Hill SE, Rathnelly, South Hill, Summerhill West\n",
      "Rosedale\n",
      "Cabbagetown, St. James Town\n",
      "Church and Wellesley\n",
      "Harbourfront, Regent Park\n",
      "Garden District, Ryerson\n",
      "St. James Town\n",
      "Berczy Park\n",
      "Central Bay Street\n",
      "Adelaide, King, Richmond\n",
      "Harbourfront East, Toronto Islands, Union Station\n",
      "Design Exchange, Toronto Dominion Centre\n",
      "Commerce Court, Victoria Hotel\n",
      "Bedford Park, Lawrence Manor East\n",
      "Roselawn\n",
      "Forest Hill North, Forest Hill West\n",
      "North Midtown, The Annex, Yorkville\n",
      "Harbord, University of Toronto\n",
      "Chinatown, Grange Park, Kensington Market\n",
      "Bathurst Quay, CN Tower, Harbourfront West, Island airport, King and Spadina, Railway Lands, South Niagara\n",
      "Stn A PO Boxes 25 The Esplanade\n",
      "First Canadian Place, Underground city\n",
      "Lawrence Heights, Lawrence Manor\n",
      "Glencairn\n",
      "Humewood-Cedarvale\n",
      "Caledonia-Fairbanks\n",
      "Christie\n",
      "Dovercourt Village, Dufferin\n",
      "Little Portugal, Trinity\n",
      "Brockton, Exhibition Place, Parkdale Village\n",
      "Downsview, North Park, Upwood Park\n",
      "Del Ray, Keelesdale, Mount Dennis, Silverthorn\n",
      "Runnymede, The Junction North\n",
      "High Park, The Junction South\n",
      "Parkdale, Roncesvalles\n",
      "Runnymede, Swansea\n",
      "Queen's Park\n",
      "Canada Post Gateway Processing Centre\n",
      "Business Reply Mail Processing Centre 969 Eastern\n",
      "Humber Bay Shores, Mimico South, New Toronto\n",
      "Alderwood, Long Branch\n",
      "Montgomery Road, Old Mill North, The Kingsway\n",
      "Humber Bay, King's Mill Park, Kingsway Park South East, Mimico NE, Old Mill South, Royal York South East, Sunnylea, The Queensway East\n",
      "Kingsway Park South West, Mimico NW, Royal York South West, South of Bloor, The Queensway West\n",
      "Islington Avenue\n",
      "Cloverdale, Islington, Martin Grove, Princess Gardens, West Deane Park\n",
      "Bloordale Gardens, Eringate, Markland Wood, Old Burnhamthorpe\n",
      "Humber Summit\n",
      "Emery, Humberlea\n",
      "Weston\n",
      "Westmount\n",
      "Kingsview Village, Martin Grove Gardens, Richview Gardens, St. Phillips\n",
      "Albion Gardens, Beaumond Heights, Humbergate, Jamestown, Mount Olive, Silverstone, South Steeles, Thistletown\n",
      "Northwest\n"
     ]
    }
   ],
   "source": [
    "Toronto_food_venues = getNearbyVenues(names=Toronto_data['Neighborhood'],\n",
    "                                   latitudes=Toronto_data['Latitude'],\n",
    "                                   longitudes=Toronto_data['Longitude']\n",
    "                                  )"
   ]
  },
  {
   "cell_type": "markdown",
   "metadata": {},
   "source": [
    "Finally, give the restaurant dataframe columns name."
   ]
  },
  {
   "cell_type": "code",
   "execution_count": 8,
   "metadata": {},
   "outputs": [],
   "source": [
    "Toronto_food_venues.columns=['Neighborhood','Neighborhood_lat','Neighborhood_long',\n",
    "                             'Restaurant','Restaurant_lat','Restaurant_long']"
   ]
  },
  {
   "cell_type": "markdown",
   "metadata": {},
   "source": [
    "## The Final restaurant and neighborhood dataframe."
   ]
  },
  {
   "cell_type": "code",
   "execution_count": 9,
   "metadata": {},
   "outputs": [
    {
     "data": {
      "text/html": [
       "<div>\n",
       "<style scoped>\n",
       "    .dataframe tbody tr th:only-of-type {\n",
       "        vertical-align: middle;\n",
       "    }\n",
       "\n",
       "    .dataframe tbody tr th {\n",
       "        vertical-align: top;\n",
       "    }\n",
       "\n",
       "    .dataframe thead th {\n",
       "        text-align: right;\n",
       "    }\n",
       "</style>\n",
       "<table border=\"1\" class=\"dataframe\">\n",
       "  <thead>\n",
       "    <tr style=\"text-align: right;\">\n",
       "      <th></th>\n",
       "      <th>Neighborhood</th>\n",
       "      <th>Neighborhood_lat</th>\n",
       "      <th>Neighborhood_long</th>\n",
       "      <th>Restaurant</th>\n",
       "      <th>Restaurant_lat</th>\n",
       "      <th>Restaurant_long</th>\n",
       "    </tr>\n",
       "  </thead>\n",
       "  <tbody>\n",
       "    <tr>\n",
       "      <th>0</th>\n",
       "      <td>Malvern, Rouge</td>\n",
       "      <td>43.806686</td>\n",
       "      <td>-79.194353</td>\n",
       "      <td>Ted's Restaurant</td>\n",
       "      <td>43.784468</td>\n",
       "      <td>-79.169200</td>\n",
       "    </tr>\n",
       "    <tr>\n",
       "      <th>1</th>\n",
       "      <td>Malvern, Rouge</td>\n",
       "      <td>43.806686</td>\n",
       "      <td>-79.194353</td>\n",
       "      <td>Perfect Chinese Restaurant 雅瓊海鮮酒家</td>\n",
       "      <td>43.787774</td>\n",
       "      <td>-79.270294</td>\n",
       "    </tr>\n",
       "    <tr>\n",
       "      <th>2</th>\n",
       "      <td>Malvern, Rouge</td>\n",
       "      <td>43.806686</td>\n",
       "      <td>-79.194353</td>\n",
       "      <td>Alton Restaurant 益街坊</td>\n",
       "      <td>43.825582</td>\n",
       "      <td>-79.276038</td>\n",
       "    </tr>\n",
       "    <tr>\n",
       "      <th>3</th>\n",
       "      <td>Malvern, Rouge</td>\n",
       "      <td>43.806686</td>\n",
       "      <td>-79.194353</td>\n",
       "      <td>東海漁村 Tasty BBQ Seafood Restaurant (Tasty BBQ S...</td>\n",
       "      <td>43.794425</td>\n",
       "      <td>-79.353300</td>\n",
       "    </tr>\n",
       "    <tr>\n",
       "      <th>4</th>\n",
       "      <td>Malvern, Rouge</td>\n",
       "      <td>43.806686</td>\n",
       "      <td>-79.194353</td>\n",
       "      <td>Federick Restaurant</td>\n",
       "      <td>43.851124</td>\n",
       "      <td>-79.253210</td>\n",
       "    </tr>\n",
       "    <tr>\n",
       "      <th>5</th>\n",
       "      <td>Malvern, Rouge</td>\n",
       "      <td>43.806686</td>\n",
       "      <td>-79.194353</td>\n",
       "      <td>Inware Restaurant Equipment and Supplies 宏鑫餐具</td>\n",
       "      <td>43.804130</td>\n",
       "      <td>-79.296060</td>\n",
       "    </tr>\n",
       "    <tr>\n",
       "      <th>6</th>\n",
       "      <td>Malvern, Rouge</td>\n",
       "      <td>43.806686</td>\n",
       "      <td>-79.194353</td>\n",
       "      <td>Perkins Restaurant &amp; Bakery</td>\n",
       "      <td>43.829004</td>\n",
       "      <td>-79.097694</td>\n",
       "    </tr>\n",
       "    <tr>\n",
       "      <th>7</th>\n",
       "      <td>Malvern, Rouge</td>\n",
       "      <td>43.806686</td>\n",
       "      <td>-79.194353</td>\n",
       "      <td>Ming's Restaurant 大明茶餐廳</td>\n",
       "      <td>43.861347</td>\n",
       "      <td>-79.304258</td>\n",
       "    </tr>\n",
       "    <tr>\n",
       "      <th>8</th>\n",
       "      <td>Malvern, Rouge</td>\n",
       "      <td>43.806686</td>\n",
       "      <td>-79.194353</td>\n",
       "      <td>Fortune House Restaurant 富記</td>\n",
       "      <td>43.790025</td>\n",
       "      <td>-79.302509</td>\n",
       "    </tr>\n",
       "    <tr>\n",
       "      <th>9</th>\n",
       "      <td>Malvern, Rouge</td>\n",
       "      <td>43.806686</td>\n",
       "      <td>-79.194353</td>\n",
       "      <td>The Royal Chinese Restaurant 避風塘小炒</td>\n",
       "      <td>43.780505</td>\n",
       "      <td>-79.298844</td>\n",
       "    </tr>\n",
       "  </tbody>\n",
       "</table>\n",
       "</div>"
      ],
      "text/plain": [
       "     Neighborhood  Neighborhood_lat  Neighborhood_long  \\\n",
       "0  Malvern, Rouge         43.806686         -79.194353   \n",
       "1  Malvern, Rouge         43.806686         -79.194353   \n",
       "2  Malvern, Rouge         43.806686         -79.194353   \n",
       "3  Malvern, Rouge         43.806686         -79.194353   \n",
       "4  Malvern, Rouge         43.806686         -79.194353   \n",
       "5  Malvern, Rouge         43.806686         -79.194353   \n",
       "6  Malvern, Rouge         43.806686         -79.194353   \n",
       "7  Malvern, Rouge         43.806686         -79.194353   \n",
       "8  Malvern, Rouge         43.806686         -79.194353   \n",
       "9  Malvern, Rouge         43.806686         -79.194353   \n",
       "\n",
       "                                          Restaurant  Restaurant_lat  \\\n",
       "0                                   Ted's Restaurant       43.784468   \n",
       "1                  Perfect Chinese Restaurant 雅瓊海鮮酒家       43.787774   \n",
       "2                               Alton Restaurant 益街坊       43.825582   \n",
       "3  東海漁村 Tasty BBQ Seafood Restaurant (Tasty BBQ S...       43.794425   \n",
       "4                                Federick Restaurant       43.851124   \n",
       "5      Inware Restaurant Equipment and Supplies 宏鑫餐具       43.804130   \n",
       "6                        Perkins Restaurant & Bakery       43.829004   \n",
       "7                            Ming's Restaurant 大明茶餐廳       43.861347   \n",
       "8                        Fortune House Restaurant 富記       43.790025   \n",
       "9                 The Royal Chinese Restaurant 避風塘小炒       43.780505   \n",
       "\n",
       "   Restaurant_long  \n",
       "0       -79.169200  \n",
       "1       -79.270294  \n",
       "2       -79.276038  \n",
       "3       -79.353300  \n",
       "4       -79.253210  \n",
       "5       -79.296060  \n",
       "6       -79.097694  \n",
       "7       -79.304258  \n",
       "8       -79.302509  \n",
       "9       -79.298844  "
      ]
     },
     "execution_count": 9,
     "metadata": {},
     "output_type": "execute_result"
    }
   ],
   "source": [
    "Toronto_food_venues.head(10)"
   ]
  },
  {
   "cell_type": "code",
   "execution_count": 10,
   "metadata": {},
   "outputs": [
    {
     "name": "stdout",
     "output_type": "stream",
     "text": [
      "Number of rows 3090\n"
     ]
    }
   ],
   "source": [
    "print('Number of rows',Toronto_food_venues.shape[0])"
   ]
  },
  {
   "cell_type": "markdown",
   "metadata": {},
   "source": [
    "## Saving the data to csv file"
   ]
  },
  {
   "cell_type": "code",
   "execution_count": 11,
   "metadata": {},
   "outputs": [],
   "source": [
    "Toronto_food_venues.to_csv('Toronto_Restaurants.csv',index=False)"
   ]
  }
 ],
 "metadata": {
  "kernelspec": {
   "display_name": "Python 3",
   "language": "python",
   "name": "python3"
  },
  "language_info": {
   "codemirror_mode": {
    "name": "ipython",
    "version": 3
   },
   "file_extension": ".py",
   "mimetype": "text/x-python",
   "name": "python",
   "nbconvert_exporter": "python",
   "pygments_lexer": "ipython3",
   "version": "3.7.1"
  }
 },
 "nbformat": 4,
 "nbformat_minor": 2
}
